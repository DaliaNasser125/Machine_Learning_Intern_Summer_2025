{
 "cells": [
  {
   "cell_type": "markdown",
   "id": "5d140456",
   "metadata": {},
   "source": [
    "# 1. Import Libraries"
   ]
  },
  {
   "cell_type": "code",
   "execution_count": null,
   "id": "117eeb25",
   "metadata": {},
   "outputs": [],
   "source": [
    "import pandas as pd\n",
    "import numpy as np\n",
    "import matplotlib.pyplot as plt\n",
    "import seaborn as sns\n",
    "from scipy import stats\n",
    "from sklearn.model_selection import train_test_split, cross_val_score\n",
    "from sklearn.linear_model import LogisticRegression\n",
    "from sklearn.metrics import accuracy_score, classification_report, confusion_matrix\n",
    "from statsmodels.stats.outliers_influence import variance_inflation_factor"
   ]
  },
  {
   "cell_type": "markdown",
   "id": "a4cefb1b",
   "metadata": {},
   "source": [
    "# 2. Load and Inspect Data"
   ]
  },
  {
   "cell_type": "code",
   "execution_count": null,
   "id": "5297893a",
   "metadata": {},
   "outputs": [],
   "source": [
    "df = pd.read_csv(r\"H:\\Hazoom\\Videos\\Courses\\ML - Cellula\\Week 1\\Task\\first inten project.csv\")"
   ]
  },
  {
   "cell_type": "code",
   "execution_count": null,
   "id": "3ede7263",
   "metadata": {},
   "outputs": [],
   "source": [
    "df.head()"
   ]
  },
  {
   "cell_type": "code",
   "execution_count": null,
   "id": "2bd32dcf",
   "metadata": {},
   "outputs": [],
   "source": [
    "df.info()"
   ]
  },
  {
   "cell_type": "code",
   "execution_count": null,
   "id": "c05398db",
   "metadata": {},
   "outputs": [],
   "source": [
    "df.describe()"
   ]
  },
  {
   "cell_type": "code",
   "execution_count": null,
   "id": "cdab8356",
   "metadata": {},
   "outputs": [],
   "source": [
    "df.describe(include= 'object')"
   ]
  },
  {
   "cell_type": "code",
   "execution_count": null,
   "id": "61053d5a",
   "metadata": {},
   "outputs": [],
   "source": [
    "df.isnull().sum()"
   ]
  },
  {
   "cell_type": "markdown",
   "id": "9d933b47",
   "metadata": {},
   "source": [
    "# 3. Data Preprocessisng "
   ]
  },
  {
   "cell_type": "markdown",
   "id": "77b7fb86",
   "metadata": {},
   "source": [
    "Column Name Cleanup"
   ]
  },
  {
   "cell_type": "code",
   "execution_count": null,
   "id": "3618835c",
   "metadata": {},
   "outputs": [],
   "source": [
    "df.columns = df.columns.str.strip().str.lower().str.replace(\" \", \"_\")"
   ]
  },
  {
   "cell_type": "code",
   "execution_count": null,
   "id": "92c387a4",
   "metadata": {},
   "outputs": [],
   "source": [
    "df.columns"
   ]
  },
  {
   "cell_type": "markdown",
   "id": "1c217a92",
   "metadata": {},
   "source": [
    "Drop Irrelevant Column 'booking_id'"
   ]
  },
  {
   "cell_type": "code",
   "execution_count": null,
   "id": "22d0cd95",
   "metadata": {},
   "outputs": [],
   "source": [
    "df.drop(\"booking_id\", axis=1, inplace=True)"
   ]
  },
  {
   "cell_type": "markdown",
   "id": "557b744d",
   "metadata": {},
   "source": [
    "Sorting DataFrame by 'date_of_reservation column' after clearning its corrupt value 2018-29-2"
   ]
  },
  {
   "cell_type": "code",
   "execution_count": null,
   "id": "a1f5d88d",
   "metadata": {},
   "outputs": [],
   "source": [
    "df['date_of_reservation'] = df['date_of_reservation'].replace('2018-2-29', '2/28/2018')\n",
    "df['date_of_reservation'] = pd.to_datetime(df['date_of_reservation'], errors='coerce')\n",
    "df.sort_values('date_of_reservation', inplace=True)"
   ]
  },
  {
   "cell_type": "code",
   "execution_count": null,
   "id": "d1a27e03",
   "metadata": {},
   "outputs": [],
   "source": [
    "df.head()"
   ]
  },
  {
   "cell_type": "markdown",
   "id": "81f0a8f6",
   "metadata": {},
   "source": [
    "Duplicates Detecting and Removal"
   ]
  },
  {
   "cell_type": "code",
   "execution_count": null,
   "id": "afbf948b",
   "metadata": {},
   "outputs": [],
   "source": [
    "df.duplicated().sum()"
   ]
  },
  {
   "cell_type": "code",
   "execution_count": null,
   "id": "ea60435d",
   "metadata": {},
   "outputs": [],
   "source": [
    "df = df.drop_duplicates()"
   ]
  },
  {
   "cell_type": "code",
   "execution_count": null,
   "id": "04634fe3",
   "metadata": {},
   "outputs": [],
   "source": [
    "# check\n",
    "df.duplicated().sum()"
   ]
  },
  {
   "cell_type": "markdown",
   "id": "a34cbd1a",
   "metadata": {},
   "source": [
    "# 4. Feature Engineering"
   ]
  },
  {
   "cell_type": "markdown",
   "id": "eb31eb37",
   "metadata": {},
   "source": [
    "Get DataFrame Info"
   ]
  },
  {
   "cell_type": "code",
   "execution_count": null,
   "id": "3d483443",
   "metadata": {},
   "outputs": [],
   "source": [
    "df.info()"
   ]
  },
  {
   "cell_type": "markdown",
   "id": "f83ff82b",
   "metadata": {},
   "source": [
    "First, we should convert:\n",
    "- type_of_meal\n",
    "- room_type\n",
    "- market_segment_type\n",
    "- booking_status\n",
    "\n",
    "into numerical data"
   ]
  },
  {
   "cell_type": "code",
   "execution_count": null,
   "id": "a86b2352",
   "metadata": {},
   "outputs": [],
   "source": [
    "#Getting Unique Values\n",
    "\n",
    "print(df['type_of_meal'].unique())\n",
    "print(df['room_type'].unique())\n",
    "print(df['market_segment_type'].unique())\n",
    "print(df['booking_status'].unique())"
   ]
  },
  {
   "cell_type": "code",
   "execution_count": null,
   "id": "f2624b88",
   "metadata": {},
   "outputs": [],
   "source": [
    "# type_of_meal\n",
    "df['type_of_meal'] = df['type_of_meal'].str.strip().str.replace('Meal Plan', \"\")\n",
    "df['type_of_meal'] = df['type_of_meal'].str.strip().str.replace('Not Selected', '0')\n",
    "df['type_of_meal'] = df['type_of_meal'].astype(int)\n",
    "\n",
    "# room_type\n",
    "df['room_type'] = df['room_type'].str.strip().str.replace('Room_Type', \"\")\n",
    "df['room_type'] = df['room_type'].astype(int)\n",
    "\n",
    "# market_segment_type\n",
    "# One hot encoding\n",
    "df = pd.get_dummies(df, columns=['market_segment_type'], drop_first=True)\n",
    "\n",
    "# booking_status\n",
    "#Encoding\n",
    "\n",
    "df['booking_status'] = df['booking_status'].map({'Canceled': 0, 'Not_Canceled': 1})"
   ]
  },
  {
   "cell_type": "markdown",
   "id": "f74deb59",
   "metadata": {},
   "source": [
    "Adding New Features"
   ]
  },
  {
   "cell_type": "code",
   "execution_count": null,
   "id": "d3016a7e",
   "metadata": {},
   "outputs": [],
   "source": [
    "# Combine People & Nights\n",
    "df['all_people'] = df['number_of_adults'] + df['number_of_children']\n",
    "df['all_nights'] = df['number_of_weekend_nights'] + df['number_of_week_nights']\n",
    "\n",
    "# Previous Cancellation Flag\n",
    "df['has_previous_cancelation'] = (df['p-c'] > 0).astype(int)\n",
    "\n",
    "# Booking Ratio\n",
    "total_bookings = df['p-c'] + df['p-not-c']\n",
    "df['booking_ratio'] = df['p-c'] / total_bookings.replace(0, np.nan)\n",
    "df['booking_ratio'] = df['booking_ratio'].fillna(0)\n",
    "\n",
    "df['booking_ratio'].isna().sum()\n"
   ]
  },
  {
   "cell_type": "code",
   "execution_count": null,
   "id": "96755784",
   "metadata": {},
   "outputs": [],
   "source": [
    "df.info()"
   ]
  },
  {
   "cell_type": "markdown",
   "id": "5946ea2d",
   "metadata": {},
   "source": [
    "convert the needed colums to int type"
   ]
  },
  {
   "cell_type": "code",
   "execution_count": null,
   "id": "4219700f",
   "metadata": {},
   "outputs": [],
   "source": [
    "df['market_segment_type_Complementary'] = df['market_segment_type_Complementary'].astype(int)\n",
    "df['market_segment_type_Corporate'] = df['market_segment_type_Corporate'].astype(int)\n",
    "df['market_segment_type_Offline'] = df['market_segment_type_Offline'].astype(int)\n",
    "df['market_segment_type_Online'] = df['market_segment_type_Online'].astype(int)"
   ]
  },
  {
   "cell_type": "markdown",
   "id": "b75d1dc7",
   "metadata": {},
   "source": [
    "# 5. Outliers"
   ]
  },
  {
   "cell_type": "markdown",
   "id": "c0b2293a",
   "metadata": {},
   "source": [
    "Box Plot"
   ]
  },
  {
   "cell_type": "code",
   "execution_count": null,
   "id": "4121191c",
   "metadata": {},
   "outputs": [],
   "source": [
    "numeric_columns = [\n",
    "    'lead_time',\n",
    "    'average_price',\n",
    "    'number_of_children',\n",
    "    'number_of_weekend_nights',\n",
    "    'number_of_week_nights',\n",
    "    'special_requests'\n",
    "]\n",
    "\n",
    "plt.figure(figsize=(15,10))\n",
    "\n",
    "i = 1\n",
    "for col in numeric_columns:\n",
    "    plt.subplot(2,3,i)\n",
    "    sns.boxplot(data= df, y= col)\n",
    "    plt.title(f'Boxplot of {col}')\n",
    "    i += 1\n",
    "\n",
    "plt.tight_layout()"
   ]
  },
  {
   "cell_type": "markdown",
   "id": "2bddc6da",
   "metadata": {},
   "source": [
    "Histogram Plot"
   ]
  },
  {
   "cell_type": "code",
   "execution_count": null,
   "id": "96efa8ae",
   "metadata": {},
   "outputs": [],
   "source": [
    "plt.figure(figsize=(15, 10))\n",
    "\n",
    "i = 1\n",
    "for col in numeric_columns:\n",
    "    plt.subplot(2, 3, i)\n",
    "    sns.histplot(df[col], kde=True, bins=30, color='skyblue')\n",
    "    plt.title(f'Distribution of {col}')\n",
    "    plt.xlabel(col)\n",
    "    plt.ylabel('Count')\n",
    "    i += 1\n",
    "\n",
    "plt.tight_layout()\n"
   ]
  },
  {
   "cell_type": "markdown",
   "id": "bb87584a",
   "metadata": {},
   "source": [
    "Log Transform Lead Time "
   ]
  },
  {
   "cell_type": "code",
   "execution_count": null,
   "id": "01190ba3",
   "metadata": {},
   "outputs": [],
   "source": [
    "df['lead_time_log'] = np.log1p(df['lead_time'])"
   ]
  },
  {
   "cell_type": "markdown",
   "id": "a2c22a94",
   "metadata": {},
   "source": [
    "Histogram Plot for The Log Transform of Lead Time"
   ]
  },
  {
   "cell_type": "code",
   "execution_count": null,
   "id": "b5afae6a",
   "metadata": {},
   "outputs": [],
   "source": [
    "plt.figure(figsize=(10, 5))\n",
    "plt.subplot(1,2,1)\n",
    "sns.histplot(df['lead_time_log'], kde=True, bins=30, color='skyblue')\n",
    "plt.title('Distribution of leat_time_log')\n",
    "plt.xlabel('lead_time_log')\n",
    "plt.ylabel('Count')\n",
    "plt.subplot(1,2,2)\n",
    "sns.boxplot(data= df, y=df['lead_time_log'])\n",
    "plt.title('Box plot of lead_time_log')"
   ]
  },
  {
   "cell_type": "markdown",
   "id": "3e5067ef",
   "metadata": {},
   "source": [
    "Check Skewing Before and After The Transform"
   ]
  },
  {
   "cell_type": "code",
   "execution_count": null,
   "id": "242f5308",
   "metadata": {},
   "outputs": [],
   "source": [
    "print(\"Before log:\")\n",
    "print(\"Lead time skew:\", df['lead_time'].skew())\n",
    "\n",
    "print(\"\\nAfter log:\")\n",
    "print(\"Lead time log skew:\", df['lead_time_log'].skew())\n"
   ]
  },
  {
   "cell_type": "markdown",
   "id": "567bad9f",
   "metadata": {},
   "source": [
    "# 6. Feature Selection - VIF Check"
   ]
  },
  {
   "cell_type": "markdown",
   "id": "516a18da",
   "metadata": {},
   "source": [
    "Check All The Columns"
   ]
  },
  {
   "cell_type": "code",
   "execution_count": null,
   "id": "9d958f7b",
   "metadata": {},
   "outputs": [],
   "source": [
    "df.info()"
   ]
  },
  {
   "cell_type": "code",
   "execution_count": null,
   "id": "3e6fe74b",
   "metadata": {},
   "outputs": [],
   "source": [
    "df.columns"
   ]
  },
  {
   "cell_type": "markdown",
   "id": "8cfdbdd2",
   "metadata": {},
   "source": [
    "Final Selected Features"
   ]
  },
  {
   "cell_type": "code",
   "execution_count": null,
   "id": "a8305ca9",
   "metadata": {},
   "outputs": [],
   "source": [
    "vif_data = df[['type_of_meal',\n",
    " 'car_parking_space',\n",
    " 'room_type',\n",
    " 'repeated',\n",
    " 'average_price',\n",
    " 'special_requests',\n",
    " 'booking_status',\n",
    " 'has_previous_cancelation',\n",
    " 'booking_ratio',\n",
    " 'market_segment_type_Complementary',\n",
    " 'market_segment_type_Corporate',\n",
    " 'market_segment_type_Offline',\n",
    " 'market_segment_type_Online',\n",
    " 'lead_time_log',\n",
    " 'all_people',\n",
    " 'all_nights']]"
   ]
  },
  {
   "cell_type": "markdown",
   "id": "e1efd32b",
   "metadata": {},
   "source": [
    "Checking Correlation With Heatmap"
   ]
  },
  {
   "cell_type": "code",
   "execution_count": null,
   "id": "f0a29220",
   "metadata": {},
   "outputs": [],
   "source": [
    "# checking correlation\n",
    "corr_matrix = vif_data.corr(numeric_only=True)\n",
    "plt.figure(figsize=(18,10))\n",
    "sns.heatmap\n",
    "sns.heatmap(data=corr_matrix, cmap='coolwarm', annot=True)\n",
    "plt.title(\"Correlation Matrix\", fontsize=16)"
   ]
  },
  {
   "cell_type": "markdown",
   "id": "6f7e46d1",
   "metadata": {},
   "source": [
    "VIF and Transparency Calculations"
   ]
  },
  {
   "cell_type": "code",
   "execution_count": null,
   "id": "00922f43",
   "metadata": {},
   "outputs": [],
   "source": [
    "vif_df = pd.DataFrame()\n",
    "vif_df['Featture'] = vif_data.columns\n",
    "\n",
    "vif_df"
   ]
  },
  {
   "cell_type": "code",
   "execution_count": null,
   "id": "49d8db73",
   "metadata": {},
   "outputs": [],
   "source": [
    "vif_df[\"VIF\"] = [variance_inflation_factor(vif_data.values, i)\n",
    "                 for i in range(len(vif_data.columns))]\n",
    "vif_df[\"Tolerance\"] = 1 / vif_df[\"VIF\"]\n",
    "\n",
    "vif_df.sort_values(\"VIF\", ascending=False)"
   ]
  },
  {
   "cell_type": "markdown",
   "id": "8d27bf16",
   "metadata": {},
   "source": [
    "# 7. Logistics Regression Model"
   ]
  },
  {
   "cell_type": "code",
   "execution_count": null,
   "id": "a5bdf481",
   "metadata": {},
   "outputs": [],
   "source": [
    "df.drop('p-c', axis= 1, inplace= True)\n",
    "df.drop('p-not-c', axis= 1, inplace= True)\n",
    "df.drop('number_of_adults', axis= 1, inplace= True)\n",
    "df.drop('number_of_children', axis= 1, inplace= True)\n",
    "df.drop('number_of_weekend_nights',axis= 1, inplace=True)\n",
    "df.drop('number_of_week_nights', axis= 1, inplace= True)\n",
    "df.drop('lead_time', axis= 1, inplace= True)\n",
    "df.drop('date_of_reservation', axis= 1, inplace= True)"
   ]
  },
  {
   "cell_type": "code",
   "execution_count": null,
   "id": "52ceee91",
   "metadata": {},
   "outputs": [],
   "source": [
    "df.columns"
   ]
  },
  {
   "cell_type": "code",
   "execution_count": null,
   "id": "703866c5",
   "metadata": {},
   "outputs": [],
   "source": [
    "# Select features\n",
    "X = df.drop(columns='booking_status')\n",
    "y = df['booking_status']\n",
    "\n",
    "# Split data\n",
    "X_train, X_test, y_train, y_test = train_test_split(X, y, test_size=0.2, random_state=42)\n",
    "\n",
    "# Build model\n",
    "model = LogisticRegression(max_iter=1000)\n",
    "model.fit(X_train, y_train)\n",
    "\n",
    "# Predict and evaluate\n",
    "y_pred = model.predict(X_test)\n",
    "print(\"Accuracy:\", accuracy_score(y_test, y_pred))\n",
    "print(confusion_matrix(y_test, y_pred))\n",
    "print(classification_report(y_test, y_pred))\n",
    "\n",
    "# Cross-validation score\n",
    "scores = cross_val_score(model, X, y, cv=5)\n",
    "print(\"Cross-Validation Score:\", scores.mean())"
   ]
  }
 ],
 "metadata": {
  "kernelspec": {
   "display_name": "Python 3",
   "language": "python",
   "name": "python3"
  },
  "language_info": {
   "codemirror_mode": {
    "name": "ipython",
    "version": 3
   },
   "file_extension": ".py",
   "mimetype": "text/x-python",
   "name": "python",
   "nbconvert_exporter": "python",
   "pygments_lexer": "ipython3",
   "version": "3.11.0"
  }
 },
 "nbformat": 4,
 "nbformat_minor": 5
}
