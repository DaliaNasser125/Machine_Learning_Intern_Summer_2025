{
 "cells": [
  {
   "cell_type": "code",
   "execution_count": 1,
   "metadata": {
    "id": "qihIfjIEPzfg"
   },
   "outputs": [],
   "source": [
    "import numpy as np\n",
    "import pandas as pd\n",
    "import matplotlib.pyplot as plt\n",
    "import seaborn as sns\n",
    "import warnings\n",
    "warnings.filterwarnings('ignore')\n",
    "from sklearn.model_selection import train_test_split\n",
    "from sklearn.preprocessing import RobustScaler,LabelEncoder,OneHotEncoder\n",
    "from sklearn.decomposition import PCA\n",
    "from sklearn.compose import ColumnTransformer\n",
    "from sklearn.feature_selection import SelectFromModel\n",
    "from sklearn.metrics import accuracy_score,confusion_matrix,classification_report\n",
    "from sklearn.ensemble import RandomForestClassifier\n",
    "from sklearn.svm import SVC"
   ]
  },
  {
   "cell_type": "code",
   "execution_count": 3,
   "metadata": {
    "id": "YYyqeXDcRZHw"
   },
   "outputs": [],
   "source": [
    "df=pd.read_csv('first inten project.csv')"
   ]
  },
  {
   "cell_type": "markdown",
   "metadata": {
    "id": "LIzOSJePk4HA"
   },
   "source": [
    "##1. Data Preprocessing (Check Null , Data Type , See The correct Form of the data)"
   ]
  },
  {
   "cell_type": "code",
   "execution_count": 5,
   "metadata": {
    "colab": {
     "base_uri": "https://localhost:8080/",
     "height": 365
    },
    "id": "IWQTShjDRc30",
    "outputId": "b87b02d1-8c51-48ff-c9c9-eb3896b5b3c7"
   },
   "outputs": [
    {
     "data": {
      "text/html": [
       "<div>\n",
       "<style scoped>\n",
       "    .dataframe tbody tr th:only-of-type {\n",
       "        vertical-align: middle;\n",
       "    }\n",
       "\n",
       "    .dataframe tbody tr th {\n",
       "        vertical-align: top;\n",
       "    }\n",
       "\n",
       "    .dataframe thead th {\n",
       "        text-align: right;\n",
       "    }\n",
       "</style>\n",
       "<table border=\"1\" class=\"dataframe\">\n",
       "  <thead>\n",
       "    <tr style=\"text-align: right;\">\n",
       "      <th></th>\n",
       "      <th>Booking_ID</th>\n",
       "      <th>number of adults</th>\n",
       "      <th>number of children</th>\n",
       "      <th>number of weekend nights</th>\n",
       "      <th>number of week nights</th>\n",
       "      <th>type of meal</th>\n",
       "      <th>car parking space</th>\n",
       "      <th>room type</th>\n",
       "      <th>lead time</th>\n",
       "      <th>market segment type</th>\n",
       "      <th>repeated</th>\n",
       "      <th>P-C</th>\n",
       "      <th>P-not-C</th>\n",
       "      <th>average price</th>\n",
       "      <th>special requests</th>\n",
       "      <th>date of reservation</th>\n",
       "      <th>booking status</th>\n",
       "    </tr>\n",
       "  </thead>\n",
       "  <tbody>\n",
       "    <tr>\n",
       "      <th>0</th>\n",
       "      <td>INN00001</td>\n",
       "      <td>1</td>\n",
       "      <td>1</td>\n",
       "      <td>2</td>\n",
       "      <td>5</td>\n",
       "      <td>Meal Plan 1</td>\n",
       "      <td>0</td>\n",
       "      <td>Room_Type 1</td>\n",
       "      <td>224</td>\n",
       "      <td>Offline</td>\n",
       "      <td>0</td>\n",
       "      <td>0</td>\n",
       "      <td>0</td>\n",
       "      <td>88.00</td>\n",
       "      <td>0</td>\n",
       "      <td>10/2/2015</td>\n",
       "      <td>Not_Canceled</td>\n",
       "    </tr>\n",
       "    <tr>\n",
       "      <th>1</th>\n",
       "      <td>INN00002</td>\n",
       "      <td>1</td>\n",
       "      <td>0</td>\n",
       "      <td>1</td>\n",
       "      <td>3</td>\n",
       "      <td>Not Selected</td>\n",
       "      <td>0</td>\n",
       "      <td>Room_Type 1</td>\n",
       "      <td>5</td>\n",
       "      <td>Online</td>\n",
       "      <td>0</td>\n",
       "      <td>0</td>\n",
       "      <td>0</td>\n",
       "      <td>106.68</td>\n",
       "      <td>1</td>\n",
       "      <td>11/6/2018</td>\n",
       "      <td>Not_Canceled</td>\n",
       "    </tr>\n",
       "    <tr>\n",
       "      <th>2</th>\n",
       "      <td>INN00003</td>\n",
       "      <td>2</td>\n",
       "      <td>1</td>\n",
       "      <td>1</td>\n",
       "      <td>3</td>\n",
       "      <td>Meal Plan 1</td>\n",
       "      <td>0</td>\n",
       "      <td>Room_Type 1</td>\n",
       "      <td>1</td>\n",
       "      <td>Online</td>\n",
       "      <td>0</td>\n",
       "      <td>0</td>\n",
       "      <td>0</td>\n",
       "      <td>50.00</td>\n",
       "      <td>0</td>\n",
       "      <td>2/28/2018</td>\n",
       "      <td>Canceled</td>\n",
       "    </tr>\n",
       "    <tr>\n",
       "      <th>3</th>\n",
       "      <td>INN00004</td>\n",
       "      <td>1</td>\n",
       "      <td>0</td>\n",
       "      <td>0</td>\n",
       "      <td>2</td>\n",
       "      <td>Meal Plan 1</td>\n",
       "      <td>0</td>\n",
       "      <td>Room_Type 1</td>\n",
       "      <td>211</td>\n",
       "      <td>Online</td>\n",
       "      <td>0</td>\n",
       "      <td>0</td>\n",
       "      <td>0</td>\n",
       "      <td>100.00</td>\n",
       "      <td>1</td>\n",
       "      <td>5/20/2017</td>\n",
       "      <td>Canceled</td>\n",
       "    </tr>\n",
       "    <tr>\n",
       "      <th>4</th>\n",
       "      <td>INN00005</td>\n",
       "      <td>1</td>\n",
       "      <td>0</td>\n",
       "      <td>1</td>\n",
       "      <td>2</td>\n",
       "      <td>Not Selected</td>\n",
       "      <td>0</td>\n",
       "      <td>Room_Type 1</td>\n",
       "      <td>48</td>\n",
       "      <td>Online</td>\n",
       "      <td>0</td>\n",
       "      <td>0</td>\n",
       "      <td>0</td>\n",
       "      <td>77.00</td>\n",
       "      <td>0</td>\n",
       "      <td>4/11/2018</td>\n",
       "      <td>Canceled</td>\n",
       "    </tr>\n",
       "  </tbody>\n",
       "</table>\n",
       "</div>"
      ],
      "text/plain": [
       "  Booking_ID  number of adults  number of children  number of weekend nights  \\\n",
       "0   INN00001                 1                   1                         2   \n",
       "1   INN00002                 1                   0                         1   \n",
       "2   INN00003                 2                   1                         1   \n",
       "3   INN00004                 1                   0                         0   \n",
       "4   INN00005                 1                   0                         1   \n",
       "\n",
       "   number of week nights  type of meal  car parking space    room type  \\\n",
       "0                      5   Meal Plan 1                  0  Room_Type 1   \n",
       "1                      3  Not Selected                  0  Room_Type 1   \n",
       "2                      3   Meal Plan 1                  0  Room_Type 1   \n",
       "3                      2   Meal Plan 1                  0  Room_Type 1   \n",
       "4                      2  Not Selected                  0  Room_Type 1   \n",
       "\n",
       "   lead time market segment type  repeated  P-C  P-not-C  average price   \\\n",
       "0        224             Offline         0    0        0           88.00   \n",
       "1          5              Online         0    0        0          106.68   \n",
       "2          1              Online         0    0        0           50.00   \n",
       "3        211              Online         0    0        0          100.00   \n",
       "4         48              Online         0    0        0           77.00   \n",
       "\n",
       "   special requests date of reservation booking status  \n",
       "0                 0           10/2/2015   Not_Canceled  \n",
       "1                 1           11/6/2018   Not_Canceled  \n",
       "2                 0           2/28/2018       Canceled  \n",
       "3                 1           5/20/2017       Canceled  \n",
       "4                 0           4/11/2018       Canceled  "
      ]
     },
     "execution_count": 5,
     "metadata": {},
     "output_type": "execute_result"
    }
   ],
   "source": [
    "df.head()"
   ]
  },
  {
   "cell_type": "code",
   "execution_count": 7,
   "metadata": {
    "colab": {
     "base_uri": "https://localhost:8080/",
     "height": 617
    },
    "id": "2vCQH01MRehe",
    "outputId": "591aec87-449e-4c28-e312-eaee5295d668"
   },
   "outputs": [
    {
     "data": {
      "text/plain": [
       "Booking_ID                  0\n",
       "number of adults            0\n",
       "number of children          0\n",
       "number of weekend nights    0\n",
       "number of week nights       0\n",
       "type of meal                0\n",
       "car parking space           0\n",
       "room type                   0\n",
       "lead time                   0\n",
       "market segment type         0\n",
       "repeated                    0\n",
       "P-C                         0\n",
       "P-not-C                     0\n",
       "average price               0\n",
       "special requests            0\n",
       "date of reservation         0\n",
       "booking status              0\n",
       "dtype: int64"
      ]
     },
     "execution_count": 7,
     "metadata": {},
     "output_type": "execute_result"
    }
   ],
   "source": [
    "df.isna().sum()"
   ]
  },
  {
   "cell_type": "code",
   "execution_count": 9,
   "metadata": {
    "colab": {
     "base_uri": "https://localhost:8080/"
    },
    "id": "HHDzDaoBRf_C",
    "outputId": "396d727d-e85d-44ca-ae9f-66904367734e"
   },
   "outputs": [
    {
     "name": "stdout",
     "output_type": "stream",
     "text": [
      "<class 'pandas.core.frame.DataFrame'>\n",
      "RangeIndex: 36285 entries, 0 to 36284\n",
      "Data columns (total 17 columns):\n",
      " #   Column                    Non-Null Count  Dtype  \n",
      "---  ------                    --------------  -----  \n",
      " 0   Booking_ID                36285 non-null  object \n",
      " 1   number of adults          36285 non-null  int64  \n",
      " 2   number of children        36285 non-null  int64  \n",
      " 3   number of weekend nights  36285 non-null  int64  \n",
      " 4   number of week nights     36285 non-null  int64  \n",
      " 5   type of meal              36285 non-null  object \n",
      " 6   car parking space         36285 non-null  int64  \n",
      " 7   room type                 36285 non-null  object \n",
      " 8   lead time                 36285 non-null  int64  \n",
      " 9   market segment type       36285 non-null  object \n",
      " 10  repeated                  36285 non-null  int64  \n",
      " 11  P-C                       36285 non-null  int64  \n",
      " 12  P-not-C                   36285 non-null  int64  \n",
      " 13  average price             36285 non-null  float64\n",
      " 14  special requests          36285 non-null  int64  \n",
      " 15  date of reservation       36285 non-null  object \n",
      " 16  booking status            36285 non-null  object \n",
      "dtypes: float64(1), int64(10), object(6)\n",
      "memory usage: 4.7+ MB\n"
     ]
    }
   ],
   "source": [
    "df.info()"
   ]
  },
  {
   "cell_type": "code",
   "execution_count": 11,
   "metadata": {
    "id": "b0N7EUGURhmD"
   },
   "outputs": [],
   "source": [
    "df['date of reservation'] = pd.to_datetime(df['date of reservation'], format='mixed', errors='coerce')"
   ]
  },
  {
   "cell_type": "code",
   "execution_count": 13,
   "metadata": {
    "colab": {
     "base_uri": "https://localhost:8080/"
    },
    "id": "7PEX3xW2R8VB",
    "outputId": "3b4a067e-2608-4cc4-8dc6-15d01799f3ea"
   },
   "outputs": [
    {
     "name": "stdout",
     "output_type": "stream",
     "text": [
      "<class 'pandas.core.frame.DataFrame'>\n",
      "RangeIndex: 36285 entries, 0 to 36284\n",
      "Data columns (total 17 columns):\n",
      " #   Column                    Non-Null Count  Dtype         \n",
      "---  ------                    --------------  -----         \n",
      " 0   Booking_ID                36285 non-null  object        \n",
      " 1   number of adults          36285 non-null  int64         \n",
      " 2   number of children        36285 non-null  int64         \n",
      " 3   number of weekend nights  36285 non-null  int64         \n",
      " 4   number of week nights     36285 non-null  int64         \n",
      " 5   type of meal              36285 non-null  object        \n",
      " 6   car parking space         36285 non-null  int64         \n",
      " 7   room type                 36285 non-null  object        \n",
      " 8   lead time                 36285 non-null  int64         \n",
      " 9   market segment type       36285 non-null  object        \n",
      " 10  repeated                  36285 non-null  int64         \n",
      " 11  P-C                       36285 non-null  int64         \n",
      " 12  P-not-C                   36285 non-null  int64         \n",
      " 13  average price             36285 non-null  float64       \n",
      " 14  special requests          36285 non-null  int64         \n",
      " 15  date of reservation       36248 non-null  datetime64[ns]\n",
      " 16  booking status            36285 non-null  object        \n",
      "dtypes: datetime64[ns](1), float64(1), int64(10), object(5)\n",
      "memory usage: 4.7+ MB\n"
     ]
    }
   ],
   "source": [
    "df.info()"
   ]
  },
  {
   "cell_type": "code",
   "execution_count": 15,
   "metadata": {
    "colab": {
     "base_uri": "https://localhost:8080/",
     "height": 617
    },
    "id": "FMfN8dM6SEUB",
    "outputId": "74742381-a1e3-4acd-b06a-ce622b6e7786"
   },
   "outputs": [
    {
     "data": {
      "text/plain": [
       "Booking_ID                   0\n",
       "number of adults             0\n",
       "number of children           0\n",
       "number of weekend nights     0\n",
       "number of week nights        0\n",
       "type of meal                 0\n",
       "car parking space            0\n",
       "room type                    0\n",
       "lead time                    0\n",
       "market segment type          0\n",
       "repeated                     0\n",
       "P-C                          0\n",
       "P-not-C                      0\n",
       "average price                0\n",
       "special requests             0\n",
       "date of reservation         37\n",
       "booking status               0\n",
       "dtype: int64"
      ]
     },
     "execution_count": 15,
     "metadata": {},
     "output_type": "execute_result"
    }
   ],
   "source": [
    "df.isna().sum()"
   ]
  },
  {
   "cell_type": "code",
   "execution_count": 17,
   "metadata": {
    "colab": {
     "base_uri": "https://localhost:8080/",
     "height": 617
    },
    "id": "pT169295TibL",
    "outputId": "0d2a4b9b-4b19-4213-dbc7-a0d9fae8f6c0"
   },
   "outputs": [
    {
     "data": {
      "text/plain": [
       "Booking_ID                  0\n",
       "number of adults            0\n",
       "number of children          0\n",
       "number of weekend nights    0\n",
       "number of week nights       0\n",
       "type of meal                0\n",
       "car parking space           0\n",
       "room type                   0\n",
       "lead time                   0\n",
       "market segment type         0\n",
       "repeated                    0\n",
       "P-C                         0\n",
       "P-not-C                     0\n",
       "average price               0\n",
       "special requests            0\n",
       "date of reservation         0\n",
       "booking status              0\n",
       "dtype: int64"
      ]
     },
     "execution_count": 17,
     "metadata": {},
     "output_type": "execute_result"
    }
   ],
   "source": [
    "df.dropna(subset=['date of reservation'], inplace=True)\n",
    "df.isnull().sum()"
   ]
  },
  {
   "cell_type": "code",
   "execution_count": 19,
   "metadata": {
    "colab": {
     "base_uri": "https://localhost:8080/"
    },
    "id": "nGXTeaQwTlR3",
    "outputId": "2b2035a6-2b8f-48b9-fa06-432c83d9f8b1"
   },
   "outputs": [
    {
     "name": "stdout",
     "output_type": "stream",
     "text": [
      "\n",
      "Unique values for 'Booking_ID':\n",
      "['INN00001' 'INN00002' 'INN00003' ... 'INN36284' 'INN36285' 'INN36286']\n",
      "\n",
      "Unique values for 'type of meal':\n",
      "['Meal Plan 1' 'Not Selected' 'Meal Plan 2' 'Meal Plan 3']\n",
      "\n",
      "Unique values for 'room type':\n",
      "['Room_Type 1' 'Room_Type 4' 'Room_Type 2' 'Room_Type 6' 'Room_Type 5'\n",
      " 'Room_Type 7' 'Room_Type 3']\n",
      "\n",
      "Unique values for 'market segment type':\n",
      "['Offline' 'Online' 'Corporate' 'Aviation' 'Complementary']\n",
      "\n",
      "Unique values for 'booking status':\n",
      "['Not_Canceled' 'Canceled']\n"
     ]
    }
   ],
   "source": [
    "df_categorical = df.select_dtypes(include='object')\n",
    "for col in df_categorical:\n",
    "    print(f\"\\nUnique values for '{col}':\")\n",
    "    print(df[col].unique())"
   ]
  },
  {
   "cell_type": "code",
   "execution_count": 21,
   "metadata": {
    "colab": {
     "base_uri": "https://localhost:8080/",
     "height": 178
    },
    "id": "U6NIA7_cjA6c",
    "outputId": "8907f5d5-ee19-4245-ee05-d3e3626291cf"
   },
   "outputs": [
    {
     "data": {
      "text/plain": [
       "booking status\n",
       "Not_Canceled    24366\n",
       "Canceled        11882\n",
       "Name: count, dtype: int64"
      ]
     },
     "execution_count": 21,
     "metadata": {},
     "output_type": "execute_result"
    }
   ],
   "source": [
    "df['booking status'].value_counts()"
   ]
  },
  {
   "cell_type": "markdown",
   "metadata": {
    "id": "bM2cV960jCmI"
   },
   "source": [
    "## 2. Check And Handel The Outliers if we drop outliers the total of amout of outliers to be dropped in 50% of the data then the other solution to fill outliers with median and use robust scaling"
   ]
  },
  {
   "cell_type": "code",
   "execution_count": 24,
   "metadata": {
    "id": "b5dc9b18"
   },
   "outputs": [],
   "source": [
    "numerical_cols = df.select_dtypes(include=np.number).columns\n",
    "\n",
    "# Step 1: Replace outliers with median\n",
    "for col in numerical_cols:\n",
    "    Q1 = df[col].quantile(0.25)\n",
    "    Q3 = df[col].quantile(0.75)\n",
    "    IQR = Q3 - Q1\n",
    "    lower = Q1 - 1.5 * IQR\n",
    "    upper = Q3 + 1.5 * IQR\n",
    "    median = df[col].median()\n",
    "\n",
    "    df[col] = np.where((df[col] < lower) | (df[col] > upper), median, df[col])"
   ]
  },
  {
   "cell_type": "code",
   "execution_count": 26,
   "metadata": {
    "colab": {
     "base_uri": "https://localhost:8080/",
     "height": 365
    },
    "id": "ruWpPcTKUvOT",
    "outputId": "4bec30ba-d45d-4679-da3a-b8e3beee0ab5"
   },
   "outputs": [
    {
     "data": {
      "text/html": [
       "<div>\n",
       "<style scoped>\n",
       "    .dataframe tbody tr th:only-of-type {\n",
       "        vertical-align: middle;\n",
       "    }\n",
       "\n",
       "    .dataframe tbody tr th {\n",
       "        vertical-align: top;\n",
       "    }\n",
       "\n",
       "    .dataframe thead th {\n",
       "        text-align: right;\n",
       "    }\n",
       "</style>\n",
       "<table border=\"1\" class=\"dataframe\">\n",
       "  <thead>\n",
       "    <tr style=\"text-align: right;\">\n",
       "      <th></th>\n",
       "      <th>Booking_ID</th>\n",
       "      <th>number of adults</th>\n",
       "      <th>number of children</th>\n",
       "      <th>number of weekend nights</th>\n",
       "      <th>number of week nights</th>\n",
       "      <th>type of meal</th>\n",
       "      <th>car parking space</th>\n",
       "      <th>room type</th>\n",
       "      <th>lead time</th>\n",
       "      <th>market segment type</th>\n",
       "      <th>repeated</th>\n",
       "      <th>P-C</th>\n",
       "      <th>P-not-C</th>\n",
       "      <th>average price</th>\n",
       "      <th>special requests</th>\n",
       "      <th>date of reservation</th>\n",
       "      <th>booking status</th>\n",
       "    </tr>\n",
       "  </thead>\n",
       "  <tbody>\n",
       "    <tr>\n",
       "      <th>0</th>\n",
       "      <td>INN00001</td>\n",
       "      <td>2.0</td>\n",
       "      <td>0.0</td>\n",
       "      <td>2.0</td>\n",
       "      <td>5.0</td>\n",
       "      <td>Meal Plan 1</td>\n",
       "      <td>0.0</td>\n",
       "      <td>Room_Type 1</td>\n",
       "      <td>224.0</td>\n",
       "      <td>Offline</td>\n",
       "      <td>0.0</td>\n",
       "      <td>0.0</td>\n",
       "      <td>0.0</td>\n",
       "      <td>88.00</td>\n",
       "      <td>0.0</td>\n",
       "      <td>2015-10-02</td>\n",
       "      <td>Not_Canceled</td>\n",
       "    </tr>\n",
       "    <tr>\n",
       "      <th>1</th>\n",
       "      <td>INN00002</td>\n",
       "      <td>2.0</td>\n",
       "      <td>0.0</td>\n",
       "      <td>1.0</td>\n",
       "      <td>3.0</td>\n",
       "      <td>Not Selected</td>\n",
       "      <td>0.0</td>\n",
       "      <td>Room_Type 1</td>\n",
       "      <td>5.0</td>\n",
       "      <td>Online</td>\n",
       "      <td>0.0</td>\n",
       "      <td>0.0</td>\n",
       "      <td>0.0</td>\n",
       "      <td>106.68</td>\n",
       "      <td>1.0</td>\n",
       "      <td>2018-11-06</td>\n",
       "      <td>Not_Canceled</td>\n",
       "    </tr>\n",
       "    <tr>\n",
       "      <th>2</th>\n",
       "      <td>INN00003</td>\n",
       "      <td>2.0</td>\n",
       "      <td>0.0</td>\n",
       "      <td>1.0</td>\n",
       "      <td>3.0</td>\n",
       "      <td>Meal Plan 1</td>\n",
       "      <td>0.0</td>\n",
       "      <td>Room_Type 1</td>\n",
       "      <td>1.0</td>\n",
       "      <td>Online</td>\n",
       "      <td>0.0</td>\n",
       "      <td>0.0</td>\n",
       "      <td>0.0</td>\n",
       "      <td>50.00</td>\n",
       "      <td>0.0</td>\n",
       "      <td>2018-02-28</td>\n",
       "      <td>Canceled</td>\n",
       "    </tr>\n",
       "    <tr>\n",
       "      <th>3</th>\n",
       "      <td>INN00004</td>\n",
       "      <td>2.0</td>\n",
       "      <td>0.0</td>\n",
       "      <td>0.0</td>\n",
       "      <td>2.0</td>\n",
       "      <td>Meal Plan 1</td>\n",
       "      <td>0.0</td>\n",
       "      <td>Room_Type 1</td>\n",
       "      <td>211.0</td>\n",
       "      <td>Online</td>\n",
       "      <td>0.0</td>\n",
       "      <td>0.0</td>\n",
       "      <td>0.0</td>\n",
       "      <td>100.00</td>\n",
       "      <td>1.0</td>\n",
       "      <td>2017-05-20</td>\n",
       "      <td>Canceled</td>\n",
       "    </tr>\n",
       "    <tr>\n",
       "      <th>4</th>\n",
       "      <td>INN00005</td>\n",
       "      <td>2.0</td>\n",
       "      <td>0.0</td>\n",
       "      <td>1.0</td>\n",
       "      <td>2.0</td>\n",
       "      <td>Not Selected</td>\n",
       "      <td>0.0</td>\n",
       "      <td>Room_Type 1</td>\n",
       "      <td>48.0</td>\n",
       "      <td>Online</td>\n",
       "      <td>0.0</td>\n",
       "      <td>0.0</td>\n",
       "      <td>0.0</td>\n",
       "      <td>77.00</td>\n",
       "      <td>0.0</td>\n",
       "      <td>2018-04-11</td>\n",
       "      <td>Canceled</td>\n",
       "    </tr>\n",
       "  </tbody>\n",
       "</table>\n",
       "</div>"
      ],
      "text/plain": [
       "  Booking_ID  number of adults  number of children  number of weekend nights  \\\n",
       "0   INN00001               2.0                 0.0                       2.0   \n",
       "1   INN00002               2.0                 0.0                       1.0   \n",
       "2   INN00003               2.0                 0.0                       1.0   \n",
       "3   INN00004               2.0                 0.0                       0.0   \n",
       "4   INN00005               2.0                 0.0                       1.0   \n",
       "\n",
       "   number of week nights  type of meal  car parking space    room type  \\\n",
       "0                    5.0   Meal Plan 1                0.0  Room_Type 1   \n",
       "1                    3.0  Not Selected                0.0  Room_Type 1   \n",
       "2                    3.0   Meal Plan 1                0.0  Room_Type 1   \n",
       "3                    2.0   Meal Plan 1                0.0  Room_Type 1   \n",
       "4                    2.0  Not Selected                0.0  Room_Type 1   \n",
       "\n",
       "   lead time market segment type  repeated  P-C  P-not-C  average price   \\\n",
       "0      224.0             Offline       0.0  0.0      0.0           88.00   \n",
       "1        5.0              Online       0.0  0.0      0.0          106.68   \n",
       "2        1.0              Online       0.0  0.0      0.0           50.00   \n",
       "3      211.0              Online       0.0  0.0      0.0          100.00   \n",
       "4       48.0              Online       0.0  0.0      0.0           77.00   \n",
       "\n",
       "   special requests date of reservation booking status  \n",
       "0               0.0          2015-10-02   Not_Canceled  \n",
       "1               1.0          2018-11-06   Not_Canceled  \n",
       "2               0.0          2018-02-28       Canceled  \n",
       "3               1.0          2017-05-20       Canceled  \n",
       "4               0.0          2018-04-11       Canceled  "
      ]
     },
     "execution_count": 26,
     "metadata": {},
     "output_type": "execute_result"
    }
   ],
   "source": [
    "df.head()"
   ]
  },
  {
   "cell_type": "code",
   "execution_count": 28,
   "metadata": {
    "id": "pTgXhumzUvD9"
   },
   "outputs": [],
   "source": [
    "df.drop(columns=['Booking_ID','date of reservation'],axis=1,inplace=True)"
   ]
  },
  {
   "cell_type": "code",
   "execution_count": 30,
   "metadata": {
    "id": "jv_AmuKTUuzm"
   },
   "outputs": [],
   "source": [
    "df.reset_index(drop=True,inplace=True)"
   ]
  },
  {
   "cell_type": "code",
   "execution_count": 32,
   "metadata": {
    "colab": {
     "base_uri": "https://localhost:8080/",
     "height": 649
    },
    "id": "eAwWKgayVu_g",
    "outputId": "02a3db08-f5c2-4576-a17d-ebe4b8910ec2"
   },
   "outputs": [
    {
     "data": {
      "text/html": [
       "<div>\n",
       "<style scoped>\n",
       "    .dataframe tbody tr th:only-of-type {\n",
       "        vertical-align: middle;\n",
       "    }\n",
       "\n",
       "    .dataframe tbody tr th {\n",
       "        vertical-align: top;\n",
       "    }\n",
       "\n",
       "    .dataframe thead th {\n",
       "        text-align: right;\n",
       "    }\n",
       "</style>\n",
       "<table border=\"1\" class=\"dataframe\">\n",
       "  <thead>\n",
       "    <tr style=\"text-align: right;\">\n",
       "      <th></th>\n",
       "      <th>number of adults</th>\n",
       "      <th>number of children</th>\n",
       "      <th>number of weekend nights</th>\n",
       "      <th>number of week nights</th>\n",
       "      <th>type of meal</th>\n",
       "      <th>car parking space</th>\n",
       "      <th>room type</th>\n",
       "      <th>lead time</th>\n",
       "      <th>market segment type</th>\n",
       "      <th>repeated</th>\n",
       "      <th>P-C</th>\n",
       "      <th>P-not-C</th>\n",
       "      <th>average price</th>\n",
       "      <th>special requests</th>\n",
       "      <th>booking status</th>\n",
       "    </tr>\n",
       "  </thead>\n",
       "  <tbody>\n",
       "    <tr>\n",
       "      <th>0</th>\n",
       "      <td>2.0</td>\n",
       "      <td>0.0</td>\n",
       "      <td>2.0</td>\n",
       "      <td>5.0</td>\n",
       "      <td>Meal Plan 1</td>\n",
       "      <td>0.0</td>\n",
       "      <td>Room_Type 1</td>\n",
       "      <td>224.0</td>\n",
       "      <td>Offline</td>\n",
       "      <td>0.0</td>\n",
       "      <td>0.0</td>\n",
       "      <td>0.0</td>\n",
       "      <td>88.00</td>\n",
       "      <td>0.0</td>\n",
       "      <td>Not_Canceled</td>\n",
       "    </tr>\n",
       "    <tr>\n",
       "      <th>1</th>\n",
       "      <td>2.0</td>\n",
       "      <td>0.0</td>\n",
       "      <td>1.0</td>\n",
       "      <td>3.0</td>\n",
       "      <td>Not Selected</td>\n",
       "      <td>0.0</td>\n",
       "      <td>Room_Type 1</td>\n",
       "      <td>5.0</td>\n",
       "      <td>Online</td>\n",
       "      <td>0.0</td>\n",
       "      <td>0.0</td>\n",
       "      <td>0.0</td>\n",
       "      <td>106.68</td>\n",
       "      <td>1.0</td>\n",
       "      <td>Not_Canceled</td>\n",
       "    </tr>\n",
       "    <tr>\n",
       "      <th>2</th>\n",
       "      <td>2.0</td>\n",
       "      <td>0.0</td>\n",
       "      <td>1.0</td>\n",
       "      <td>3.0</td>\n",
       "      <td>Meal Plan 1</td>\n",
       "      <td>0.0</td>\n",
       "      <td>Room_Type 1</td>\n",
       "      <td>1.0</td>\n",
       "      <td>Online</td>\n",
       "      <td>0.0</td>\n",
       "      <td>0.0</td>\n",
       "      <td>0.0</td>\n",
       "      <td>50.00</td>\n",
       "      <td>0.0</td>\n",
       "      <td>Canceled</td>\n",
       "    </tr>\n",
       "    <tr>\n",
       "      <th>3</th>\n",
       "      <td>2.0</td>\n",
       "      <td>0.0</td>\n",
       "      <td>0.0</td>\n",
       "      <td>2.0</td>\n",
       "      <td>Meal Plan 1</td>\n",
       "      <td>0.0</td>\n",
       "      <td>Room_Type 1</td>\n",
       "      <td>211.0</td>\n",
       "      <td>Online</td>\n",
       "      <td>0.0</td>\n",
       "      <td>0.0</td>\n",
       "      <td>0.0</td>\n",
       "      <td>100.00</td>\n",
       "      <td>1.0</td>\n",
       "      <td>Canceled</td>\n",
       "    </tr>\n",
       "    <tr>\n",
       "      <th>4</th>\n",
       "      <td>2.0</td>\n",
       "      <td>0.0</td>\n",
       "      <td>1.0</td>\n",
       "      <td>2.0</td>\n",
       "      <td>Not Selected</td>\n",
       "      <td>0.0</td>\n",
       "      <td>Room_Type 1</td>\n",
       "      <td>48.0</td>\n",
       "      <td>Online</td>\n",
       "      <td>0.0</td>\n",
       "      <td>0.0</td>\n",
       "      <td>0.0</td>\n",
       "      <td>77.00</td>\n",
       "      <td>0.0</td>\n",
       "      <td>Canceled</td>\n",
       "    </tr>\n",
       "    <tr>\n",
       "      <th>...</th>\n",
       "      <td>...</td>\n",
       "      <td>...</td>\n",
       "      <td>...</td>\n",
       "      <td>...</td>\n",
       "      <td>...</td>\n",
       "      <td>...</td>\n",
       "      <td>...</td>\n",
       "      <td>...</td>\n",
       "      <td>...</td>\n",
       "      <td>...</td>\n",
       "      <td>...</td>\n",
       "      <td>...</td>\n",
       "      <td>...</td>\n",
       "      <td>...</td>\n",
       "      <td>...</td>\n",
       "    </tr>\n",
       "    <tr>\n",
       "      <th>36243</th>\n",
       "      <td>2.0</td>\n",
       "      <td>0.0</td>\n",
       "      <td>0.0</td>\n",
       "      <td>2.0</td>\n",
       "      <td>Meal Plan 2</td>\n",
       "      <td>0.0</td>\n",
       "      <td>Room_Type 1</td>\n",
       "      <td>57.0</td>\n",
       "      <td>Online</td>\n",
       "      <td>0.0</td>\n",
       "      <td>0.0</td>\n",
       "      <td>0.0</td>\n",
       "      <td>115.00</td>\n",
       "      <td>1.0</td>\n",
       "      <td>Canceled</td>\n",
       "    </tr>\n",
       "    <tr>\n",
       "      <th>36244</th>\n",
       "      <td>2.0</td>\n",
       "      <td>0.0</td>\n",
       "      <td>1.0</td>\n",
       "      <td>3.0</td>\n",
       "      <td>Meal Plan 1</td>\n",
       "      <td>0.0</td>\n",
       "      <td>Room_Type 1</td>\n",
       "      <td>34.0</td>\n",
       "      <td>Online</td>\n",
       "      <td>0.0</td>\n",
       "      <td>0.0</td>\n",
       "      <td>0.0</td>\n",
       "      <td>107.55</td>\n",
       "      <td>1.0</td>\n",
       "      <td>Not_Canceled</td>\n",
       "    </tr>\n",
       "    <tr>\n",
       "      <th>36245</th>\n",
       "      <td>2.0</td>\n",
       "      <td>0.0</td>\n",
       "      <td>1.0</td>\n",
       "      <td>3.0</td>\n",
       "      <td>Meal Plan 1</td>\n",
       "      <td>0.0</td>\n",
       "      <td>Room_Type 4</td>\n",
       "      <td>83.0</td>\n",
       "      <td>Online</td>\n",
       "      <td>0.0</td>\n",
       "      <td>0.0</td>\n",
       "      <td>0.0</td>\n",
       "      <td>105.61</td>\n",
       "      <td>1.0</td>\n",
       "      <td>Not_Canceled</td>\n",
       "    </tr>\n",
       "    <tr>\n",
       "      <th>36246</th>\n",
       "      <td>2.0</td>\n",
       "      <td>0.0</td>\n",
       "      <td>0.0</td>\n",
       "      <td>4.0</td>\n",
       "      <td>Meal Plan 1</td>\n",
       "      <td>0.0</td>\n",
       "      <td>Room_Type 1</td>\n",
       "      <td>121.0</td>\n",
       "      <td>Offline</td>\n",
       "      <td>0.0</td>\n",
       "      <td>0.0</td>\n",
       "      <td>0.0</td>\n",
       "      <td>96.90</td>\n",
       "      <td>1.0</td>\n",
       "      <td>Not_Canceled</td>\n",
       "    </tr>\n",
       "    <tr>\n",
       "      <th>36247</th>\n",
       "      <td>2.0</td>\n",
       "      <td>0.0</td>\n",
       "      <td>0.0</td>\n",
       "      <td>5.0</td>\n",
       "      <td>Meal Plan 1</td>\n",
       "      <td>0.0</td>\n",
       "      <td>Room_Type 4</td>\n",
       "      <td>44.0</td>\n",
       "      <td>Online</td>\n",
       "      <td>0.0</td>\n",
       "      <td>0.0</td>\n",
       "      <td>0.0</td>\n",
       "      <td>133.44</td>\n",
       "      <td>0.0</td>\n",
       "      <td>Not_Canceled</td>\n",
       "    </tr>\n",
       "  </tbody>\n",
       "</table>\n",
       "<p>36248 rows × 15 columns</p>\n",
       "</div>"
      ],
      "text/plain": [
       "       number of adults  number of children  number of weekend nights  \\\n",
       "0                   2.0                 0.0                       2.0   \n",
       "1                   2.0                 0.0                       1.0   \n",
       "2                   2.0                 0.0                       1.0   \n",
       "3                   2.0                 0.0                       0.0   \n",
       "4                   2.0                 0.0                       1.0   \n",
       "...                 ...                 ...                       ...   \n",
       "36243               2.0                 0.0                       0.0   \n",
       "36244               2.0                 0.0                       1.0   \n",
       "36245               2.0                 0.0                       1.0   \n",
       "36246               2.0                 0.0                       0.0   \n",
       "36247               2.0                 0.0                       0.0   \n",
       "\n",
       "       number of week nights  type of meal  car parking space    room type  \\\n",
       "0                        5.0   Meal Plan 1                0.0  Room_Type 1   \n",
       "1                        3.0  Not Selected                0.0  Room_Type 1   \n",
       "2                        3.0   Meal Plan 1                0.0  Room_Type 1   \n",
       "3                        2.0   Meal Plan 1                0.0  Room_Type 1   \n",
       "4                        2.0  Not Selected                0.0  Room_Type 1   \n",
       "...                      ...           ...                ...          ...   \n",
       "36243                    2.0   Meal Plan 2                0.0  Room_Type 1   \n",
       "36244                    3.0   Meal Plan 1                0.0  Room_Type 1   \n",
       "36245                    3.0   Meal Plan 1                0.0  Room_Type 4   \n",
       "36246                    4.0   Meal Plan 1                0.0  Room_Type 1   \n",
       "36247                    5.0   Meal Plan 1                0.0  Room_Type 4   \n",
       "\n",
       "       lead time market segment type  repeated  P-C  P-not-C  average price   \\\n",
       "0          224.0             Offline       0.0  0.0      0.0           88.00   \n",
       "1            5.0              Online       0.0  0.0      0.0          106.68   \n",
       "2            1.0              Online       0.0  0.0      0.0           50.00   \n",
       "3          211.0              Online       0.0  0.0      0.0          100.00   \n",
       "4           48.0              Online       0.0  0.0      0.0           77.00   \n",
       "...          ...                 ...       ...  ...      ...             ...   \n",
       "36243       57.0              Online       0.0  0.0      0.0          115.00   \n",
       "36244       34.0              Online       0.0  0.0      0.0          107.55   \n",
       "36245       83.0              Online       0.0  0.0      0.0          105.61   \n",
       "36246      121.0             Offline       0.0  0.0      0.0           96.90   \n",
       "36247       44.0              Online       0.0  0.0      0.0          133.44   \n",
       "\n",
       "       special requests booking status  \n",
       "0                   0.0   Not_Canceled  \n",
       "1                   1.0   Not_Canceled  \n",
       "2                   0.0       Canceled  \n",
       "3                   1.0       Canceled  \n",
       "4                   0.0       Canceled  \n",
       "...                 ...            ...  \n",
       "36243               1.0       Canceled  \n",
       "36244               1.0   Not_Canceled  \n",
       "36245               1.0   Not_Canceled  \n",
       "36246               1.0   Not_Canceled  \n",
       "36247               0.0   Not_Canceled  \n",
       "\n",
       "[36248 rows x 15 columns]"
      ]
     },
     "execution_count": 32,
     "metadata": {},
     "output_type": "execute_result"
    }
   ],
   "source": [
    "df"
   ]
  },
  {
   "cell_type": "markdown",
   "metadata": {
    "id": "v5d1Z6D9lYaI"
   },
   "source": [
    "##3. Transformation For The Categorical Data"
   ]
  },
  {
   "cell_type": "code",
   "execution_count": 35,
   "metadata": {
    "colab": {
     "base_uri": "https://localhost:8080/",
     "height": 345
    },
    "id": "s87H40SBYuJZ",
    "outputId": "ff2bd61c-d276-4c5b-803e-ae60fa802c1d"
   },
   "outputs": [
    {
     "data": {
      "text/html": [
       "<div>\n",
       "<style scoped>\n",
       "    .dataframe tbody tr th:only-of-type {\n",
       "        vertical-align: middle;\n",
       "    }\n",
       "\n",
       "    .dataframe tbody tr th {\n",
       "        vertical-align: top;\n",
       "    }\n",
       "\n",
       "    .dataframe thead th {\n",
       "        text-align: right;\n",
       "    }\n",
       "</style>\n",
       "<table border=\"1\" class=\"dataframe\">\n",
       "  <thead>\n",
       "    <tr style=\"text-align: right;\">\n",
       "      <th></th>\n",
       "      <th>number of adults</th>\n",
       "      <th>number of children</th>\n",
       "      <th>number of weekend nights</th>\n",
       "      <th>number of week nights</th>\n",
       "      <th>type of meal</th>\n",
       "      <th>car parking space</th>\n",
       "      <th>room type</th>\n",
       "      <th>lead time</th>\n",
       "      <th>market segment type</th>\n",
       "      <th>repeated</th>\n",
       "      <th>P-C</th>\n",
       "      <th>P-not-C</th>\n",
       "      <th>average price</th>\n",
       "      <th>special requests</th>\n",
       "      <th>booking status</th>\n",
       "    </tr>\n",
       "  </thead>\n",
       "  <tbody>\n",
       "    <tr>\n",
       "      <th>0</th>\n",
       "      <td>2.0</td>\n",
       "      <td>0.0</td>\n",
       "      <td>2.0</td>\n",
       "      <td>5.0</td>\n",
       "      <td>Meal Plan 1</td>\n",
       "      <td>0.0</td>\n",
       "      <td>Room_Type 1</td>\n",
       "      <td>224.0</td>\n",
       "      <td>Offline</td>\n",
       "      <td>0.0</td>\n",
       "      <td>0.0</td>\n",
       "      <td>0.0</td>\n",
       "      <td>88.00</td>\n",
       "      <td>0.0</td>\n",
       "      <td>1</td>\n",
       "    </tr>\n",
       "    <tr>\n",
       "      <th>1</th>\n",
       "      <td>2.0</td>\n",
       "      <td>0.0</td>\n",
       "      <td>1.0</td>\n",
       "      <td>3.0</td>\n",
       "      <td>Not Selected</td>\n",
       "      <td>0.0</td>\n",
       "      <td>Room_Type 1</td>\n",
       "      <td>5.0</td>\n",
       "      <td>Online</td>\n",
       "      <td>0.0</td>\n",
       "      <td>0.0</td>\n",
       "      <td>0.0</td>\n",
       "      <td>106.68</td>\n",
       "      <td>1.0</td>\n",
       "      <td>1</td>\n",
       "    </tr>\n",
       "    <tr>\n",
       "      <th>2</th>\n",
       "      <td>2.0</td>\n",
       "      <td>0.0</td>\n",
       "      <td>1.0</td>\n",
       "      <td>3.0</td>\n",
       "      <td>Meal Plan 1</td>\n",
       "      <td>0.0</td>\n",
       "      <td>Room_Type 1</td>\n",
       "      <td>1.0</td>\n",
       "      <td>Online</td>\n",
       "      <td>0.0</td>\n",
       "      <td>0.0</td>\n",
       "      <td>0.0</td>\n",
       "      <td>50.00</td>\n",
       "      <td>0.0</td>\n",
       "      <td>0</td>\n",
       "    </tr>\n",
       "    <tr>\n",
       "      <th>3</th>\n",
       "      <td>2.0</td>\n",
       "      <td>0.0</td>\n",
       "      <td>0.0</td>\n",
       "      <td>2.0</td>\n",
       "      <td>Meal Plan 1</td>\n",
       "      <td>0.0</td>\n",
       "      <td>Room_Type 1</td>\n",
       "      <td>211.0</td>\n",
       "      <td>Online</td>\n",
       "      <td>0.0</td>\n",
       "      <td>0.0</td>\n",
       "      <td>0.0</td>\n",
       "      <td>100.00</td>\n",
       "      <td>1.0</td>\n",
       "      <td>0</td>\n",
       "    </tr>\n",
       "    <tr>\n",
       "      <th>4</th>\n",
       "      <td>2.0</td>\n",
       "      <td>0.0</td>\n",
       "      <td>1.0</td>\n",
       "      <td>2.0</td>\n",
       "      <td>Not Selected</td>\n",
       "      <td>0.0</td>\n",
       "      <td>Room_Type 1</td>\n",
       "      <td>48.0</td>\n",
       "      <td>Online</td>\n",
       "      <td>0.0</td>\n",
       "      <td>0.0</td>\n",
       "      <td>0.0</td>\n",
       "      <td>77.00</td>\n",
       "      <td>0.0</td>\n",
       "      <td>0</td>\n",
       "    </tr>\n",
       "  </tbody>\n",
       "</table>\n",
       "</div>"
      ],
      "text/plain": [
       "   number of adults  number of children  number of weekend nights  \\\n",
       "0               2.0                 0.0                       2.0   \n",
       "1               2.0                 0.0                       1.0   \n",
       "2               2.0                 0.0                       1.0   \n",
       "3               2.0                 0.0                       0.0   \n",
       "4               2.0                 0.0                       1.0   \n",
       "\n",
       "   number of week nights  type of meal  car parking space    room type  \\\n",
       "0                    5.0   Meal Plan 1                0.0  Room_Type 1   \n",
       "1                    3.0  Not Selected                0.0  Room_Type 1   \n",
       "2                    3.0   Meal Plan 1                0.0  Room_Type 1   \n",
       "3                    2.0   Meal Plan 1                0.0  Room_Type 1   \n",
       "4                    2.0  Not Selected                0.0  Room_Type 1   \n",
       "\n",
       "   lead time market segment type  repeated  P-C  P-not-C  average price   \\\n",
       "0      224.0             Offline       0.0  0.0      0.0           88.00   \n",
       "1        5.0              Online       0.0  0.0      0.0          106.68   \n",
       "2        1.0              Online       0.0  0.0      0.0           50.00   \n",
       "3      211.0              Online       0.0  0.0      0.0          100.00   \n",
       "4       48.0              Online       0.0  0.0      0.0           77.00   \n",
       "\n",
       "   special requests  booking status  \n",
       "0               0.0               1  \n",
       "1               1.0               1  \n",
       "2               0.0               0  \n",
       "3               1.0               0  \n",
       "4               0.0               0  "
      ]
     },
     "metadata": {},
     "output_type": "display_data"
    }
   ],
   "source": [
    "from sklearn.preprocessing import LabelEncoder\n",
    "\n",
    "le = LabelEncoder()\n",
    "df['booking status'] = le.fit_transform(df['booking status'])\n",
    "\n",
    "display(df.head())"
   ]
  },
  {
   "cell_type": "markdown",
   "metadata": {
    "id": "SPljiK-TlbK1"
   },
   "source": [
    "##4. Train Test Split"
   ]
  },
  {
   "cell_type": "code",
   "execution_count": 38,
   "metadata": {
    "id": "dAG1CgqHYHQO"
   },
   "outputs": [],
   "source": [
    "target = 'booking status'\n",
    "\n",
    "X = df.drop(target, axis=1)\n",
    "y = df[target]\n",
    "\n",
    "X_train, X_test, y_train, y_test = train_test_split(X, y, test_size=0.2, random_state=42)\n"
   ]
  },
  {
   "cell_type": "code",
   "execution_count": 40,
   "metadata": {
    "id": "3DYVQXALYHGH"
   },
   "outputs": [],
   "source": [
    "numerical_features = X.select_dtypes(include=np.number).columns\n",
    "categorical_features = X.select_dtypes(include='object').columns\n",
    "\n",
    "preprocessor = ColumnTransformer(\n",
    "    transformers=[\n",
    "        ('num', RobustScaler(), numerical_features),\n",
    "        ('cat', OneHotEncoder(handle_unknown='ignore'), categorical_features)\n",
    "    ],\n",
    "    remainder='passthrough'\n",
    ")\n",
    "\n",
    "X_train_transformed = preprocessor.fit_transform(X_train)\n",
    "X_test_transformed = preprocessor.transform(X_test)\n"
   ]
  },
  {
   "cell_type": "markdown",
   "metadata": {
    "id": "CP0UnOfgljTz"
   },
   "source": [
    "## 5. Feature Engineering ( Feature Selection , Feature Extraction)"
   ]
  },
  {
   "cell_type": "code",
   "execution_count": 43,
   "metadata": {
    "colab": {
     "base_uri": "https://localhost:8080/"
    },
    "id": "3JufN1WHZo8y",
    "outputId": "207d4ec7-daac-439f-8978-a196432aa30d"
   },
   "outputs": [
    {
     "name": "stdout",
     "output_type": "stream",
     "text": [
      "Shape after Random Forest feature selection: (28998, 14)\n"
     ]
    }
   ],
   "source": [
    "rf_selector = RandomForestClassifier(n_estimators=100, random_state=42)\n",
    "rf_selector.fit(X_train_transformed, y_train)\n",
    "\n",
    "model = SelectFromModel(rf_selector, prefit=True, threshold='median')\n",
    "X_train_selected = model.transform(X_train_transformed)\n",
    "X_test_selected = model.transform(X_test_transformed)\n",
    "\n",
    "print(\"Shape after Random Forest feature selection:\", X_train_selected.shape)\n"
   ]
  },
  {
   "cell_type": "code",
   "execution_count": 45,
   "metadata": {
    "colab": {
     "base_uri": "https://localhost:8080/"
    },
    "id": "YcOP0x7pZo59",
    "outputId": "4f16c655-f244-4c02-9a90-a7a3a7b2d231"
   },
   "outputs": [
    {
     "name": "stdout",
     "output_type": "stream",
     "text": [
      "Final shape after RF + PCA: (28998, 9)\n"
     ]
    }
   ],
   "source": [
    "pca = PCA(n_components=0.95)\n",
    "X_train_final = pca.fit_transform(X_train_selected)\n",
    "X_test_final = pca.transform(X_test_selected)\n",
    "\n",
    "print(\"Final shape after RF + PCA:\", X_train_final.shape)\n"
   ]
  },
  {
   "cell_type": "markdown",
   "metadata": {
    "id": "cNYCMAbolpuN"
   },
   "source": [
    "##6. Modeling And Accuracy Calculation"
   ]
  },
  {
   "cell_type": "code",
   "execution_count": 48,
   "metadata": {
    "colab": {
     "base_uri": "https://localhost:8080/",
     "height": 524
    },
    "id": "CLeOJOkoZo3U",
    "outputId": "71cb4c70-6043-4def-92a6-4f28c9434799"
   },
   "outputs": [
    {
     "name": "stdout",
     "output_type": "stream",
     "text": [
      "              precision    recall  f1-score   support\n",
      "\n",
      "           0       0.79      0.75      0.77      2369\n",
      "           1       0.88      0.90      0.89      4881\n",
      "\n",
      "    accuracy                           0.85      7250\n",
      "   macro avg       0.84      0.83      0.83      7250\n",
      "weighted avg       0.85      0.85      0.85      7250\n",
      "\n"
     ]
    },
    {
     "data": {
      "image/png": "[encoded data removed]",
      "text/plain": [
       "<Figure size 500x400 with 2 Axes>"
      ]
     },
     "metadata": {},
     "output_type": "display_data"
    }
   ],
   "source": [
    "clf = RandomForestClassifier(random_state=42)\n",
    "clf.fit(X_train_final, y_train)\n",
    "\n",
    "y_predd = clf.predict(X_test_final)\n",
    "print(classification_report(y_test, y_predd))\n",
    "cm_rf = confusion_matrix(y_test, y_predd)\n",
    "\n",
    "plt.figure(figsize=(5, 4))\n",
    "sns.heatmap(cm_rf, annot=True, fmt='d', cmap='Red')\n",
    "plt.show()\n"
   ]
  },
  {
   "cell_type": "code",
   "execution_count": 58,
   "metadata": {
    "colab": {
     "base_uri": "https://localhost:8080/",
     "height": 524
    },
    "id": "0Jwm-LBTa_Tp",
    "outputId": "8c27dd3b-f579-4b18-f1d6-93f554793dd3"
   },
   "outputs": [
    {
     "name": "stdout",
     "output_type": "stream",
     "text": [
      "              precision    recall  f1-score   support\n",
      "\n",
      "           0       0.75      0.61      0.67      2369\n",
      "           1       0.83      0.90      0.86      4881\n",
      "\n",
      "    accuracy                           0.80      7250\n",
      "   macro avg       0.79      0.75      0.77      7250\n",
      "weighted avg       0.80      0.80      0.80      7250\n",
      "\n"
     ]
    },
    {
     "data": {
      "image/png": "[encoded data removed]",
      "text/plain": [
       "<Figure size 500x400 with 2 Axes>"
      ]
     },
     "metadata": {},
     "output_type": "display_data"
    }
   ],
   "source": [
    "from sklearn.svm import SVC\n",
    "\n",
    "clf = SVC(random_state=42)\n",
    "clf.fit(X_train_final, y_train)\n",
    "\n",
    "y_pred = clf.predict(X_test_final)\n",
    "print(classification_report(y_test, y_pred))\n",
    "cm = confusion_matrix(y_test, y_pred)\n",
    "plt.figure(figsize=(5, 4))\n",
    "sns.heatmap(cm, annot=True, fmt='d', cmap='Blues')\n",
    "plt.show()\n"
   ]
  },
  {
   "cell_type": "code",
   "execution_count": 50,
   "metadata": {
    "colab": {
     "base_uri": "https://localhost:8080/",
     "height": 524
    },
    "id": "tS7iOU4EbApB",
    "outputId": "32aa36c8-3a8f-49dc-f707-7716f459549a"
   },
   "outputs": [
    {
     "name": "stdout",
     "output_type": "stream",
     "text": [
      "              precision    recall  f1-score   support\n",
      "\n",
      "           0       0.80      0.74      0.77      2369\n",
      "           1       0.88      0.91      0.89      4881\n",
      "\n",
      "    accuracy                           0.86      7250\n",
      "   macro avg       0.84      0.83      0.83      7250\n",
      "weighted avg       0.85      0.86      0.85      7250\n",
      "\n"
     ]
    },
    {
     "data": {
      "image/png": "[encoded data removed]",
      "text/plain": [
       "<Figure size 500x400 with 2 Axes>"
      ]
     },
     "metadata": {},
     "output_type": "display_data"
    }
   ],
   "source": [
    "from sklearn.model_selection import GridSearchCV\n",
    "from xgboost import XGBClassifier\n",
    "\n",
    "param_grid = {\n",
    "    'max_depth': [4, 6, 8],\n",
    "    'n_estimators': [100, 200],\n",
    "    'learning_rate': [0.01, 0.1, 0.2]\n",
    "}\n",
    "\n",
    "grid = GridSearchCV(XGBClassifier(random_state=42, use_label_encoder=False, eval_metric='logloss'),\n",
    "                    param_grid, cv=3, scoring='f1_weighted')\n",
    "grid.fit(X_train_final, y_train)\n",
    "\n",
    "best_model = grid.best_estimator_\n",
    "y_preddd = best_model.predict(X_test_final)\n",
    "print(classification_report(y_test, y_preddd))\n",
    "cm_xgb = confusion_matrix(y_test, y_preddd)\n",
    "plt.figure(figsize=(5, 4))\n",
    "sns.heatmap(cm_xgb, annot=True, fmt='d', cmap='Purples')\n",
    "plt.show()"
   ]
  },
  {
   "cell_type": "code",
   "execution_count": null,
   "metadata": {},
   "outputs": [],
   "source": []
  }
 ],
 "metadata": {
  "colab": {
   "provenance": []
  },
  "kernelspec": {
   "display_name": "Python 3 (ipykernel)",
   "language": "python",
   "name": "python3"
  },
  "language_info": {
   "codemirror_mode": {
    "name": "ipython",
    "version": 3
   },
   "file_extension": ".py",
   "mimetype": "text/x-python",
   "name": "python",
   "nbconvert_exporter": "python",
   "pygments_lexer": "ipython3",
   "version": "3.12.4"
  }
 },
 "nbformat": 4,
 "nbformat_minor": 4
}
