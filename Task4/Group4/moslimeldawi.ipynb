import pandas as pd
import numpy as np
import matplotlib.pyplot as plt
import seaborn as sns

# Load the dataset
try:
    df = pd.read_csv('data3.csv')
    print("Dataset loaded successfully.")
except FileNotFoundError:
    print("Error: data3.csv not found. Please ensure the file is uploaded to Colab.")
    exit()

# --- 1. Initial Data Inspection ---
print("\n--- Initial Data Inspection ---")
print("First 5 rows of the dataset:")
print(df.head())
print("\nDataset Info:")
df.info()
print("\nMissing values before cleaning:")
print(df.isnull().sum())

# Convert 'pickup_datetime' to datetime objects
df['pickup_datetime'] = pd.to_datetime(df['pickup_datetime'])

# Drop duplicate 'hour', 'day', 'month', 'weekday', 'year' columns if they exist
# Assuming the 'pickup_datetime' is the source of truth for these temporal features.
# If they are derived, we can re-derive them to ensure consistency.
# For now, let's just make sure they align or drop the redundant ones if they are exact duplicates.
# Let's re-extract them from pickup_datetime to ensure consistency
df['hour'] = df['pickup_datetime'].dt.hour
df['day'] = df['pickup_datetime'].dt.day
df['month'] = df['pickup_datetime'].dt.month
df['weekday'] = df['pickup_datetime'].dt.weekday # Monday=0, Sunday=6
df['year'] = df['pickup_datetime'].dt.year

# --- 2. Data Cleaning and Preprocessing ---
# Handle missing values:
# For numerical columns, consider median/mean imputation or dropping rows.
# For categorical, consider mode imputation or 'Unknown' category.

# Let's inspect columns with missing values.
# 'fare_amount' cannot be zero or negative, handle these as invalid.
df = df[df['fare_amount'] > 0]

# For simplicity, let's drop rows with any missing numerical values that are critical for analysis.
# For coordinates and distances, dropping seems reasonable if missing.
critical_numerical_cols = ['fare_amount', 'pickup_longitude', 'pickup_latitude',
                           'dropoff_longitude', 'dropoff_latitude', 'passenger_count',
                           'jfk_dist', 'ewr_dist', 'lga_dist', 'sol_dist', 'distance', 'bearing']
df.dropna(subset=critical_numerical_cols, inplace=True)

# For 'Car Condition', 'Weather', 'Traffic Condition', 'User Name', 'Driver Name', 'User ID':
# These might have missing values. Let's fill them with 'Unknown' or the mode if appropriate.
for col in ['Car Condition', 'Weather', 'Traffic Condition']:
    df[col].fillna(df[col].mode()[0], inplace=True) # Fill with most frequent category

print("\nMissing values after cleaning:")
print(df.isnull().sum())
print(f"\nDataset shape after cleaning: {df.shape}")

# Ensure 'passenger_count' is an integer and reasonable (e.g., between 1 and 6)
df['passenger_count'] = df['passenger_count'].astype(int)
df = df[(df['passenger_count'] >= 1) & (df['passenger_count'] <= 6)]

# Basic descriptive statistics
print("\nDescriptive Statistics for Numerical Columns:")
print(df.describe())

# --- 3. Exploratory Data Analysis (EDA) and Visualizations ---

# --- Story Point 1: Introduction ---
print("\n--- Story Point 1: Introduction ---")
print(f"Total number of rides analyzed: {len(df)} after cleaning.")
print(f"Time range of data: from {df['pickup_datetime'].min()} to {df['pickup_datetime'].max()}")

# --- Story Point 2: Who are Our Users and Drivers? ---
print("\n--- Story Point 2: Who are Our Users and Drivers? ---")
# User ID is unique per user in this context, so let's count unique users.
print(f"Number of unique users: {df['User ID'].nunique()}")
# Top drivers by number of rides
top_drivers = df['Driver Name'].value_counts().head(10)
print("\nTop 10 Most Active Drivers:")
print(top_drivers)

plt.figure(figsize=(10, 6))
sns.barplot(x=top_drivers.values, y=top_drivers.index, palette='viridis')
plt.title('Top 10 Most Active Drivers')
plt.xlabel('Number of Rides')
plt.ylabel('Driver Name')
plt.show()

# --- Story Point 3: Ride Characteristics: Fare, Passengers, and Distance ---
print("\n--- Story Point 3: Ride Characteristics: Fare, Passengers, and Distance ---")

# Distribution of Fare Amount
plt.figure(figsize=(10, 6))
sns.histplot(df['fare_amount'], bins=50, kde=True, color='skyblue')
plt.title('Distribution of Fare Amount')
plt.xlabel('Fare Amount ($)')
plt.ylabel('Number of Rides')
plt.xlim(0, df['fare_amount'].quantile(0.99)) # Limit x-axis to better visualize the main distribution
plt.show()

# Distribution of Passenger Count
plt.figure(figsize=(8, 5))
sns.countplot(x='passenger_count', data=df, palette='magma')
plt.title('Distribution of Passenger Count')
plt.xlabel('Passenger Count')
plt.ylabel('Number of Rides')
plt.show()

# Distribution of Trip Distance
plt.figure(figsize=(10, 6))
sns.histplot(df['distance'], bins=50, kde=True, color='lightcoral')
plt.title('Distribution of Trip Distance')
plt.xlabel('Distance (miles/km)') # Assuming distance is in a standard unit
plt.ylabel('Number of Rides')
plt.xlim(0, df['distance'].quantile(0.99)) # Limit x-axis
plt.show()

# Relationship between Fare, Distance, and Passenger Count
plt.figure(figsize=(12, 7))
sns.scatterplot(x='distance', y='fare_amount', hue='passenger_count', data=df.sample(n=5000, random_state=42), palette='viridis', alpha=0.6) # Sample for performance
plt.title('Fare Amount vs. Trip Distance (colored by Passenger Count)')
plt.xlabel('Distance')
plt.ylabel('Fare Amount')
plt.xlim(0, df['distance'].quantile(0.99))
plt.ylim(0, df['fare_amount'].quantile(0.99))
plt.show()

# Correlation matrix for key numerical features
plt.figure(figsize=(10, 8))
correlation_matrix = df[['fare_amount', 'distance', 'passenger_count', 'jfk_dist', 'ewr_dist', 'lga_dist', 'sol_dist', 'bearing']].corr()
sns.heatmap(correlation_matrix, annot=True, cmap='coolwarm', fmt=".2f")
plt.title('Correlation Matrix of Key Numerical Features')
plt.show()


# --- Story Point 4: Temporal Analysis: When Do People Ride? ---
print("\n--- Story Point 4: Temporal Analysis: When Do People Ride? ---")

# Rides by Hour of Day
plt.figure(figsize=(10, 6))
sns.countplot(x='hour', data=df, palette='GnBu_d')
plt.title('Number of Rides by Hour of Day')
plt.xlabel('Hour of Day (24-hour format)')
plt.ylabel('Number of Rides')
plt.show()

# Rides by Day of Week
plt.figure(figsize=(10, 6))
sns.countplot(x='weekday', data=df, palette='plasma')
plt.title('Number of Rides by Day of Week')
plt.xlabel('Day of Week (0=Monday, 6=Sunday)')
plt.ylabel('Number of Rides')
plt.xticks(ticks=range(7), labels=['Mon', 'Tue', 'Wed', 'Thu', 'Fri', 'Sat', 'Sun'])
plt.show()

# Rides by Month
plt.figure(figsize=(10, 6))
sns.countplot(x='month', data=df, palette='viridis')
plt.title('Number of Rides by Month')
plt.xlabel('Month')
plt.ylabel('Number of Rides')
plt.show()

# Rides by Year (if multiple years present)
if df['year'].nunique() > 1:
    plt.figure(figsize=(10, 6))
    sns.countplot(x='year', data=df, palette='cividis')
    plt.title('Number of Rides by Year')
    plt.xlabel('Year')
    plt.ylabel('Number of Rides')
    plt.show()

# --- Story Point 5: Environmental Impact: Weather and Traffic ---
print("\n--- Story Point 5: Environmental Impact: Weather and Traffic ---")

# Rides by Weather Condition
plt.figure(figsize=(10, 6))
sns.countplot(x='Weather', data=df, palette='crest')
plt.title('Number of Rides by Weather Condition')
plt.xlabel('Weather Condition')
plt.ylabel('Number of Rides')
plt.show()

# Rides by Traffic Condition
plt.figure(figsize=(10, 6))
sns.countplot(x='Traffic Condition', data=df, palette='rocket')
plt.title('Number of Rides by Traffic Condition')
plt.xlabel('Traffic Condition')
plt.ylabel('Number of Rides')
plt.show()

# Average Fare by Weather and Traffic Condition
plt.figure(figsize=(14, 7))
plt.subplot(1, 2, 1)
sns.boxplot(x='Weather', y='fare_amount', data=df, palette='crest')
plt.title('Average Fare Amount by Weather Condition')
plt.xlabel('Weather Condition')
plt.ylabel('Fare Amount')
plt.ylim(0, df['fare_amount'].quantile(0.95))

plt.subplot(1, 2, 2)
sns.boxplot(x='Traffic Condition', y='fare_amount', data=df, palette='rocket')
plt.title('Average Fare Amount by Traffic Condition')
plt.xlabel('Traffic Condition')
plt.ylabel('Fare Amount')
plt.ylim(0, df['fare_amount'].quantile(0.95))
plt.tight_layout()
plt.show()

# --- Story Point 6: Geospatial Insights: Pickup/Dropoff and Landmarks ---
print("\n--- Story Point 6: Geospatial Insights: Pickup/Dropoff and Landmarks ---")

# Distribution of Distances to Airports and Statue of Liberty
fig, axes = plt.subplots(2, 2, figsize=(15, 12))
sns.histplot(df['jfk_dist'], bins=50, kde=True, ax=axes[0, 0], color='skyblue')
axes[0, 0].set_title('Distribution of JFK Airport Distance')
sns.histplot(df['ewr_dist'], bins=50, kde=True, ax=axes[0, 1], color='lightgreen')
axes[0, 1].set_title('Distribution of EWR Airport Distance')
sns.histplot(df['lga_dist'], bins=50, kde=True, ax=axes[1, 0], color='salmon')
axes[1, 0].set_title('Distribution of LGA Airport Distance')
sns.histplot(df['sol_dist'], bins=50, kde=True, ax=axes[1, 1], color='gold')
axes[1, 1].set_title('Distribution of Statue of Liberty Distance')
plt.tight_layout()
plt.show()

# Relationship between fare and distances to landmarks (e.g., JFK)
plt.figure(figsize=(10, 6))
sns.scatterplot(x='jfk_dist', y='fare_amount', data=df.sample(n=5000, random_state=42), alpha=0.6, color='darkblue')
plt.title('Fare Amount vs. JFK Airport Distance')
plt.xlabel('JFK Distance')
plt.ylabel('Fare Amount')
plt.xlim(0, df['jfk_dist'].quantile(0.99))
plt.ylim(0, df['fare_amount'].quantile(0.99))
plt.show()


# --- Story Point 7: Car Condition and Bearing ---
print("\n--- Story Point 7: Car Condition and Bearing ---")

# Rides by Car Condition
plt.figure(figsize=(8, 5))
sns.countplot(x='Car Condition', data=df, palette='deep')
plt.title('Number of Rides by Car Condition')
plt.xlabel('Car Condition')
plt.ylabel('Number of Rides')
plt.show()

# Average Fare by Car Condition
plt.figure(figsize=(8, 5))
sns.boxplot(x='Car Condition', y='fare_amount', data=df, palette='deep')
plt.title('Average Fare Amount by Car Condition')
plt.xlabel('Car Condition')
plt.ylabel('Fare Amount')
plt.ylim(0, df['fare_amount'].quantile(0.95))
plt.show()

# Distribution of Bearing
plt.figure(figsize=(10, 6))
sns.histplot(df['bearing'], bins=50, kde=True, color='purple')
plt.title('Distribution of Trip Bearing (Direction)')
plt.xlabel('Bearing (Degrees)')
plt.ylabel('Number of Rides')
plt.show()

print("\nEDA Complete. Please use the generated plots for your presentation/dashboard.")
