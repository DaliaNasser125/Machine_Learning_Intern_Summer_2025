{
 "cells": [
  {
   "cell_type": "code",
   "execution_count": null,
   "id": "4c62e4f7",
   "metadata": {},
   "outputs": [],
   "source": [
    "import numpy as np\n",
    "import pandas as pd\n",
    "import plotly.express as px\n",
    "import plotly.figure_factory as ff\n",
    "import seaborn as sns \n",
    "import matplotlib.pyplot as plt\n",
    "from datasist.structdata import detect_outliers \n",
    "from sklearn.model_selection import train_test_split\n",
    "from sklearn.preprocessing import StandardScaler\n",
    "from imblearn.over_sampling import SMOTE\n",
    "import pickle"
   ]
  },
  {
   "cell_type": "code",
   "execution_count": null,
   "id": "8114092a",
   "metadata": {},
   "outputs": [],
   "source": [
    "sns.set(rc={\"figure.figsize\": [6,6]}, font_scale=1.5)"
   ]
  },
  {
   "cell_type": "code",
   "execution_count": null,
   "id": "70e3c88f",
   "metadata": {},
   "outputs": [],
   "source": [
    "df=pd.read_csv(r\"C:\\Users\\omara\\OneDrive\\Desktop\\career\\internship\\cellula\\week 4\\final_internship_data.csv\")"
   ]
  },
  {
   "cell_type": "code",
   "execution_count": null,
   "id": "46498522",
   "metadata": {},
   "outputs": [],
   "source": [
    "df.head()"
   ]
  },
  {
   "cell_type": "code",
   "execution_count": null,
   "id": "890c4ca3",
   "metadata": {},
   "outputs": [],
   "source": [
    "df.columns"
   ]
  },
  {
   "cell_type": "code",
   "execution_count": null,
   "id": "b970a4cc",
   "metadata": {},
   "outputs": [],
   "source": [
    "df.info()"
   ]
  },
  {
   "cell_type": "code",
   "execution_count": null,
   "id": "187836bf",
   "metadata": {},
   "outputs": [],
   "source": [
    "df.isna().sum()"
   ]
  },
  {
   "cell_type": "code",
   "execution_count": null,
   "id": "2706f073",
   "metadata": {},
   "outputs": [],
   "source": [
    "df.describe()"
   ]
  },
  {
   "cell_type": "code",
   "execution_count": null,
   "id": "f762a80d",
   "metadata": {},
   "outputs": [],
   "source": [
    "df.duplicated().sum()"
   ]
  },
  {
   "cell_type": "code",
   "execution_count": null,
   "id": "5a171b67",
   "metadata": {},
   "outputs": [],
   "source": [
    "df.sample(3)"
   ]
  },
  {
   "cell_type": "code",
   "execution_count": null,
   "id": "5d3d9d09",
   "metadata": {},
   "outputs": [],
   "source": [
    "df.dropna(axis=0,inplace=True)"
   ]
  },
  {
   "cell_type": "code",
   "execution_count": null,
   "id": "99b8eadd",
   "metadata": {},
   "outputs": [],
   "source": [
    "df.isna().sum()"
   ]
  },
  {
   "cell_type": "code",
   "execution_count": null,
   "id": "638db432",
   "metadata": {},
   "outputs": [],
   "source": [
    "df.columns"
   ]
  },
  {
   "cell_type": "code",
   "execution_count": null,
   "id": "bf12a9af",
   "metadata": {},
   "outputs": [],
   "source": [
    "df.drop([\"key\",\"Driver Name\",\"User Name\",\"User ID\"] , axis=1,inplace=True)\n"
   ]
  },
  {
   "cell_type": "code",
   "execution_count": null,
   "id": "4658c8ff",
   "metadata": {},
   "outputs": [],
   "source": [
    "df.head()"
   ]
  },
  {
   "cell_type": "code",
   "execution_count": null,
   "id": "a0ecf5f8",
   "metadata": {},
   "outputs": [],
   "source": [
    "def haversine (lon_1, lon_2, lat_1, lat_2):\n",
    "    \n",
    "    lon_1, lon_2, lat_1, lat_2 = map(np.radians, [lon_1, lon_2, lat_1, lat_2])  \n",
    "    diff_lon = lon_2 - lon_1\n",
    "    diff_lat = lat_2 - lat_1\n",
    "    km = 2 * 6371 * np.arcsin(np.sqrt(np.sin(diff_lat/2.0)**2 + \n",
    "                                      np.cos(lat_1) * np.cos(lat_2) * np.sin(diff_lon/2.0)**2))\n",
    "    return km"
   ]
  },
  {
   "cell_type": "code",
   "execution_count": null,
   "id": "2fd168e3",
   "metadata": {},
   "outputs": [],
   "source": [
    "df[\"my distance\"] =haversine(df[\"pickup_longitude\"],df[\"dropoff_longitude\"],df[\"pickup_latitude\"],df[\"dropoff_latitude\"])"
   ]
  },
  {
   "cell_type": "code",
   "execution_count": null,
   "id": "f4f8fd0b",
   "metadata": {},
   "outputs": [],
   "source": [
    "df.head()"
   ]
  },
  {
   "cell_type": "code",
   "execution_count": null,
   "id": "d7a5b439",
   "metadata": {},
   "outputs": [],
   "source": [
    "df.columns"
   ]
  },
  {
   "cell_type": "code",
   "execution_count": null,
   "id": "f9ae3355",
   "metadata": {},
   "outputs": [],
   "source": [
    "df.drop([\"dropoff_latitude\",\"dropoff_longitude\",\"pickup_latitude\",\"pickup_longitude\"] , axis=1,inplace=True)"
   ]
  },
  {
   "cell_type": "code",
   "execution_count": null,
   "id": "53c9d8de",
   "metadata": {},
   "outputs": [],
   "source": [
    "df.head()"
   ]
  },
  {
   "cell_type": "code",
   "execution_count": null,
   "id": "e8635a35",
   "metadata": {},
   "outputs": [],
   "source": [
    "df[\"pickup_datetime\"]=pd.to_datetime(df[\"pickup_datetime\"],format=\"%Y-%m-%d %H:%M:%S\",errors='coerce')"
   ]
  },
  {
   "cell_type": "code",
   "execution_count": null,
   "id": "1e968f8d",
   "metadata": {},
   "outputs": [],
   "source": [
    "df.info()"
   ]
  },
  {
   "cell_type": "code",
   "execution_count": null,
   "id": "1b20758b",
   "metadata": {},
   "outputs": [],
   "source": [
    "df=df.convert_dtypes()"
   ]
  },
  {
   "cell_type": "code",
   "execution_count": null,
   "id": "5824e123",
   "metadata": {},
   "outputs": [],
   "source": [
    "df.info()"
   ]
  },
  {
   "cell_type": "code",
   "execution_count": null,
   "id": "be68878f",
   "metadata": {},
   "outputs": [],
   "source": [
    "df.isna().sum()"
   ]
  },
  {
   "cell_type": "code",
   "execution_count": null,
   "id": "5306bb92",
   "metadata": {},
   "outputs": [],
   "source": [
    "df[\"min\"]=df[\"pickup_datetime\"].dt.minute"
   ]
  },
  {
   "cell_type": "code",
   "execution_count": null,
   "id": "cef501ad",
   "metadata": {},
   "outputs": [],
   "source": [
    "df.head()"
   ]
  },
  {
   "cell_type": "code",
   "execution_count": null,
   "id": "21296574",
   "metadata": {},
   "outputs": [],
   "source": [
    "df.drop([\"pickup_datetime\"],axis=1,inplace=True)"
   ]
  },
  {
   "cell_type": "code",
   "execution_count": null,
   "id": "5d6f141c",
   "metadata": {},
   "outputs": [],
   "source": [
    "df.head()"
   ]
  },
  {
   "cell_type": "code",
   "execution_count": null,
   "id": "c198edd3",
   "metadata": {},
   "outputs": [],
   "source": [
    "px.pie(df,names=df[\"Car Condition\"],title= \"Car condition distribution\").update_traces(textinfo=\"percent\")"
   ]
  },
  {
   "cell_type": "code",
   "execution_count": null,
   "id": "81d174e2",
   "metadata": {},
   "outputs": [],
   "source": [
    "px.histogram(df, x=\"Car Condition\", y=\"fare_amount\", histfunc=\"avg\", title=\"Average Fare Amount by Car Condition\")"
   ]
  },
  {
   "cell_type": "code",
   "execution_count": null,
   "id": "63fa28b7",
   "metadata": {},
   "outputs": [],
   "source": [
    "px.histogram(df, x=\"Car Condition\", y=df[\"distance\"], histfunc=\"avg\", title=\"Average distance by Car Condition\")"
   ]
  },
  {
   "cell_type": "code",
   "execution_count": null,
   "id": "50a1e667",
   "metadata": {},
   "outputs": [],
   "source": [
    "px.histogram(df, x=\"Car Condition\", y=df[\"my distance\"], histfunc=\"avg\", title=\"Average distance by Car Condition\")"
   ]
  },
  {
   "cell_type": "code",
   "execution_count": null,
   "id": "b99cbe54",
   "metadata": {},
   "outputs": [],
   "source": [
    "df[\"Car Condition\"].unique()"
   ]
  },
  {
   "cell_type": "code",
   "execution_count": null,
   "id": "08bc2baf",
   "metadata": {},
   "outputs": [],
   "source": [
    "fig, axes = plt.subplots(1, 4, figsize=(18, 5), sharey=True)\n",
    "conditions = ['Very Good', 'Excellent', 'Bad', 'Good']\n",
    "\n",
    "for i, condition in enumerate(conditions):\n",
    "    sns.boxplot(data=df[df['Car Condition'] == condition],\n",
    "                y='fare_amount',\n",
    "                ax=axes[i],\n",
    "                color='skyblue')\n",
    "    axes[i].set_title(f\"Car Condition: {condition}\")\n",
    "    axes[i].set_xlabel(\"\")  \n",
    "    axes[i].set_ylabel(\"Fare Amount ($)\" if i == 0 else \"\") \n",
    "\n",
    "plt.tight_layout()\n",
    "plt.suptitle(\"Fare Amount Distribution by Car Condition\", fontsize=16, y=1.05)\n",
    "plt.show()\n"
   ]
  },
  {
   "cell_type": "code",
   "execution_count": null,
   "id": "e7eee99c",
   "metadata": {},
   "outputs": [],
   "source": [
    "px.histogram(df, x=\"Car Condition\", y=df[\"passenger_count\"], histfunc=\"avg\", title=\"Average passenger count by Car Condition\")"
   ]
  },
  {
   "cell_type": "code",
   "execution_count": null,
   "id": "221a5de1",
   "metadata": {},
   "outputs": [],
   "source": [
    "df[\"Weather\"].unique()"
   ]
  },
  {
   "cell_type": "code",
   "execution_count": null,
   "id": "d9c28baa",
   "metadata": {},
   "outputs": [],
   "source": [
    "px.pie(df,names=df[\"Weather\"],title= \"Weather condition distribution\").update_traces(textinfo=\"percent\")"
   ]
  },
  {
   "cell_type": "code",
   "execution_count": null,
   "id": "4f653ed1",
   "metadata": {},
   "outputs": [],
   "source": [
    "plt.figure(figsize=(12,6))\n",
    "sns.countplot(data=df, x=\"Car Condition\", hue=\"Weather\")\n",
    "plt.title(\"Weather Distribution by Car Condition\")\n",
    "plt.ylabel(\"Number of Rides\")\n",
    "plt.xticks(rotation=30)\n",
    "plt.show()"
   ]
  },
  {
   "cell_type": "code",
   "execution_count": null,
   "id": "3a920e7c",
   "metadata": {},
   "outputs": [],
   "source": [
    "plt.figure(figsize=(14,6))\n",
    "sns.boxplot(data=df, x=\"Car Condition\", y=\"fare_amount\", hue=\"Weather\")\n",
    "plt.title(\"Fare Amount Distribution by Car Condition and Weather\")\n",
    "plt.ylabel(\"Fare Amount\")\n",
    "plt.xticks(rotation=15)\n",
    "plt.legend(title=\"Weather\", bbox_to_anchor=(1.05, 1), loc=\"upper left\")\n",
    "plt.show()"
   ]
  },
  {
   "cell_type": "code",
   "execution_count": null,
   "id": "bbee390c",
   "metadata": {},
   "outputs": [],
   "source": [
    "df[\"Traffic Condition\"].unique()"
   ]
  },
  {
   "cell_type": "code",
   "execution_count": null,
   "id": "98c7fb32",
   "metadata": {},
   "outputs": [],
   "source": [
    "px.pie(df,names=df[\"Traffic Condition\"],title= \"Traffic condition distribution\").update_traces(textinfo=\"percent\")"
   ]
  },
  {
   "cell_type": "code",
   "execution_count": null,
   "id": "a0fbd354",
   "metadata": {},
   "outputs": [],
   "source": [
    "plt.figure(figsize=(12,6))\n",
    "sns.countplot(data=df, x=\"Car Condition\", hue=\"Traffic Condition\")\n",
    "plt.title(\"Traffic Condition Distribution by Car Condition\")\n",
    "plt.ylabel(\"Number of Rides\")\n",
    "plt.xticks(rotation=30)\n",
    "plt.show()"
   ]
  },
  {
   "cell_type": "code",
   "execution_count": null,
   "id": "bcc4b21c",
   "metadata": {},
   "outputs": [],
   "source": [
    "plt.figure(figsize=(14,6))\n",
    "sns.boxplot(data=df, x=\"Car Condition\", y=\"fare_amount\", hue=df[\"Traffic Condition\"])\n",
    "plt.title(\"Fare Amount Distribution by Car Condition and Traffic Condition\")\n",
    "plt.ylabel(\"Fare Amount\")\n",
    "plt.xticks(rotation=15)\n",
    "plt.legend(title=\"Traffic Condition\", bbox_to_anchor=(1.05, 1), loc=\"upper left\")\n",
    "plt.show()"
   ]
  },
  {
   "cell_type": "code",
   "execution_count": null,
   "id": "29b2e1a0",
   "metadata": {},
   "outputs": [],
   "source": [
    "df.head()"
   ]
  },
  {
   "cell_type": "code",
   "execution_count": null,
   "id": "5733b6d6",
   "metadata": {},
   "outputs": [],
   "source": [
    "px.box(df, x=\"Weather\", y=\"fare_amount\", color=\"Car Condition\",title=\"Fare Amount Distribution by Weather and Car Condition\")\n"
   ]
  },
  {
   "cell_type": "code",
   "execution_count": null,
   "id": "cc771bcd",
   "metadata": {},
   "outputs": [],
   "source": [
    "px.box(df, x=df[\"Traffic Condition\"], y=\"fare_amount\", color=\"Car Condition\",title=\"Fare Amount Distribution by Traffic Condition and Car Condition\")\n"
   ]
  },
  {
   "cell_type": "code",
   "execution_count": null,
   "id": "9405a9bf",
   "metadata": {},
   "outputs": [],
   "source": [
    "df.head()"
   ]
  },
  {
   "cell_type": "code",
   "execution_count": null,
   "id": "4b90cf86",
   "metadata": {},
   "outputs": [],
   "source": [
    "sns.scatterplot(df,x=df[\"passenger_count\"],y=df[\"fare_amount\"])\n",
    "plt.title(\"Passenger Count By Fare Amount\")"
   ]
  },
  {
   "cell_type": "code",
   "execution_count": null,
   "id": "411ca94e",
   "metadata": {},
   "outputs": [],
   "source": [
    "sns.scatterplot(df,x=df[\"distance\"],y=df[\"fare_amount\"])\n",
    "plt.title(\"distance By Fare Amount\")"
   ]
  },
  {
   "cell_type": "code",
   "execution_count": null,
   "id": "5a4a6232",
   "metadata": {},
   "outputs": [],
   "source": [
    "sns.scatterplot(df,x=df[\"my distance\"],y=df[\"fare_amount\"])\n",
    "plt.title(\"my distance By Fare Amount\")"
   ]
  },
  {
   "cell_type": "code",
   "execution_count": null,
   "id": "ce5407f3",
   "metadata": {},
   "outputs": [],
   "source": [
    "df[df[\"fare_amount\"]<=0].count()"
   ]
  },
  {
   "cell_type": "code",
   "execution_count": null,
   "id": "ff4b50a1",
   "metadata": {},
   "outputs": [],
   "source": [
    "df.drop(df[df[\"fare_amount\"]<=0].index,axis=0,inplace=True)"
   ]
  },
  {
   "cell_type": "code",
   "execution_count": null,
   "id": "c8ff8ee5",
   "metadata": {},
   "outputs": [],
   "source": [
    "df[df[\"distance\"]<=0]"
   ]
  },
  {
   "cell_type": "code",
   "execution_count": null,
   "id": "25333cee",
   "metadata": {},
   "outputs": [],
   "source": [
    "df.info()"
   ]
  },
  {
   "cell_type": "code",
   "execution_count": null,
   "id": "2581fb98",
   "metadata": {},
   "outputs": [],
   "source": [
    "df.drop(df[df[\"distance\"]<=0].index,axis=0,inplace=True)"
   ]
  },
  {
   "cell_type": "code",
   "execution_count": null,
   "id": "6b663cb9",
   "metadata": {},
   "outputs": [],
   "source": [
    "df.info()"
   ]
  },
  {
   "cell_type": "code",
   "execution_count": null,
   "id": "11a78232",
   "metadata": {},
   "outputs": [],
   "source": [
    "px.scatter(df,x=df[\"distance\"],y=df[\"fare_amount\"],title=\"Fare Amount By Distance \")"
   ]
  },
  {
   "cell_type": "code",
   "execution_count": null,
   "id": "96190cf6",
   "metadata": {},
   "outputs": [],
   "source": [
    "sns.scatterplot(df,x=df[\"distance\"],y=df[\"fare_amount\"])\n",
    "plt.title(\"Fare Amount By Distance \")"
   ]
  },
  {
   "cell_type": "code",
   "execution_count": null,
   "id": "e191ac88",
   "metadata": {},
   "outputs": [],
   "source": [
    "sns.scatterplot(df,x=df[\"my distance\"],y=df[\"fare_amount\"])\n",
    "plt.title(\"Fare Amount By Distance \")"
   ]
  },
  {
   "cell_type": "code",
   "execution_count": null,
   "id": "75aed561",
   "metadata": {},
   "outputs": [],
   "source": [
    "df[df[\"my distance\"]<=0].count()"
   ]
  },
  {
   "cell_type": "code",
   "execution_count": null,
   "id": "745dfd93",
   "metadata": {},
   "outputs": [],
   "source": [
    "plt.figure(figsize=(12, 8))\n",
    "sns.heatmap(df.corr(numeric_only=True), annot=True, fmt=\".1f\", cmap=\"coolwarm\")\n",
    "plt.title(\"Correlation Heatmap\")\n",
    "plt.show()\n"
   ]
  },
  {
   "cell_type": "code",
   "execution_count": null,
   "id": "60317f10",
   "metadata": {},
   "outputs": [],
   "source": [
    "px.box(df,x=df[\"distance\"])"
   ]
  },
  {
   "cell_type": "code",
   "execution_count": null,
   "id": "d0501a1f",
   "metadata": {},
   "outputs": [],
   "source": [
    "px.box(df,x=df[\"my distance\"])"
   ]
  },
  {
   "cell_type": "code",
   "execution_count": null,
   "id": "02204f1e",
   "metadata": {},
   "outputs": [],
   "source": [
    "sns.boxplot(df,x=df[\"fare_amount\"])"
   ]
  },
  {
   "cell_type": "code",
   "execution_count": null,
   "id": "f55f5101",
   "metadata": {},
   "outputs": [],
   "source": [
    "df[(df[\"fare_amount\"]>60) & (df[\"distance\"]<1) ]"
   ]
  },
  {
   "cell_type": "code",
   "execution_count": null,
   "id": "c6cbb2af",
   "metadata": {},
   "outputs": [],
   "source": [
    "df.describe()"
   ]
  },
  {
   "cell_type": "code",
   "execution_count": null,
   "id": "28ed9396",
   "metadata": {},
   "outputs": [],
   "source": [
    "df[df[\"fare_amount\"]==df[\"fare_amount\"].min()]"
   ]
  },
  {
   "cell_type": "code",
   "execution_count": null,
   "id": "1ecdf965",
   "metadata": {},
   "outputs": [],
   "source": [
    "sns.histplot(df,x=df[\"fare_amount\"])"
   ]
  },
  {
   "cell_type": "code",
   "execution_count": null,
   "id": "f8cfeda9",
   "metadata": {},
   "outputs": [],
   "source": [
    "df[df[\"fare_amount\"]==df[\"fare_amount\"].min()]"
   ]
  },
  {
   "cell_type": "code",
   "execution_count": null,
   "id": "4ed88338",
   "metadata": {},
   "outputs": [],
   "source": [
    "df.drop(df[df[\"fare_amount\"]==df[\"fare_amount\"].min()].index, axis=0,inplace=True)"
   ]
  },
  {
   "cell_type": "code",
   "execution_count": null,
   "id": "f8ccdcfd",
   "metadata": {},
   "outputs": [],
   "source": [
    "df[df[\"fare_amount\"]==df[\"fare_amount\"].min()]"
   ]
  },
  {
   "cell_type": "code",
   "execution_count": null,
   "id": "a0a4ce21",
   "metadata": {},
   "outputs": [],
   "source": [
    "df[df[\"distance\"]==df[\"distance\"].max()]"
   ]
  },
  {
   "cell_type": "code",
   "execution_count": null,
   "id": "68ffd778",
   "metadata": {},
   "outputs": [],
   "source": [
    "df.drop(df[df[\"fare_amount\"]==df[\"fare_amount\"].min()].index, axis=0,inplace=True)"
   ]
  },
  {
   "cell_type": "code",
   "execution_count": null,
   "id": "8a4d3725",
   "metadata": {},
   "outputs": [],
   "source": [
    "df[df[\"fare_amount\"]==df[\"fare_amount\"].min()]"
   ]
  },
  {
   "cell_type": "code",
   "execution_count": null,
   "id": "6f67e439",
   "metadata": {},
   "outputs": [],
   "source": [
    "df.groupby(\"year\")[\"fare_amount\"].mean()\n"
   ]
  },
  {
   "cell_type": "code",
   "execution_count": null,
   "id": "f07cbbfb",
   "metadata": {},
   "outputs": [],
   "source": [
    "sns.barplot(df,x=df[\"year\"],y=df[\"fare_amount\"])\n",
    "plt.title(\"Year by Average Fare Amount\")"
   ]
  },
  {
   "cell_type": "code",
   "execution_count": null,
   "id": "6f9d9621",
   "metadata": {},
   "outputs": [],
   "source": [
    "df.columns"
   ]
  },
  {
   "cell_type": "code",
   "execution_count": null,
   "id": "9a65fdbb",
   "metadata": {},
   "outputs": [],
   "source": [
    "df.drop([\"my distance\"] , axis=1,inplace=True)"
   ]
  },
  {
   "cell_type": "code",
   "execution_count": null,
   "id": "e0443769",
   "metadata": {},
   "outputs": [],
   "source": [
    "df.sample(3)"
   ]
  },
  {
   "cell_type": "code",
   "execution_count": null,
   "id": "c795b64d",
   "metadata": {},
   "outputs": [],
   "source": [
    "df[df[\"distance\"]>50]"
   ]
  },
  {
   "cell_type": "code",
   "execution_count": null,
   "id": "f313639e",
   "metadata": {},
   "outputs": [],
   "source": [
    "df[df[\"distance\"] > 50][\"fare_amount\"].describe()"
   ]
  },
  {
   "cell_type": "code",
   "execution_count": null,
   "id": "3372f5da",
   "metadata": {},
   "outputs": [],
   "source": [
    "df.drop(df[df[\"distance\"] > 50].index,axis=0,inplace=True)"
   ]
  },
  {
   "cell_type": "code",
   "execution_count": null,
   "id": "9e7ea71f",
   "metadata": {},
   "outputs": [],
   "source": [
    "df.describe()"
   ]
  },
  {
   "cell_type": "code",
   "execution_count": null,
   "id": "6ead672b",
   "metadata": {},
   "outputs": [],
   "source": [
    "df[df[\"distance\"]<0.1]"
   ]
  },
  {
   "cell_type": "code",
   "execution_count": null,
   "id": "149ba2e2",
   "metadata": {},
   "outputs": [],
   "source": [
    "df[df[\"distance\"] <0.1][\"fare_amount\"].describe()"
   ]
  },
  {
   "cell_type": "code",
   "execution_count": null,
   "id": "e63790c5",
   "metadata": {},
   "outputs": [],
   "source": [
    "df.drop(df[df[\"distance\"]<0.1].index,axis=0,inplace=True)"
   ]
  },
  {
   "cell_type": "code",
   "execution_count": null,
   "id": "31e68e69",
   "metadata": {},
   "outputs": [],
   "source": [
    "df[[\"distance\"]].describe()"
   ]
  },
  {
   "cell_type": "code",
   "execution_count": null,
   "id": "e67d2df2",
   "metadata": {},
   "outputs": [],
   "source": [
    "df.info()"
   ]
  },
  {
   "cell_type": "code",
   "execution_count": null,
   "id": "57669792",
   "metadata": {},
   "outputs": [],
   "source": [
    "df[df[\"fare_amount\"]>100][\"distance\"].describe()"
   ]
  },
  {
   "cell_type": "code",
   "execution_count": null,
   "id": "cadf0eda",
   "metadata": {},
   "outputs": [],
   "source": [
    "df[(df[\"fare_amount\"]>100 ) & ( df[\"distance\"]<10)]"
   ]
  },
  {
   "cell_type": "code",
   "execution_count": null,
   "id": "468a3427",
   "metadata": {},
   "outputs": [],
   "source": [
    "df.drop(df[(df[\"fare_amount\"]>100 ) & ( df[\"distance\"]<10)].index,axis=0,inplace=True)"
   ]
  },
  {
   "cell_type": "code",
   "execution_count": null,
   "id": "af73519b",
   "metadata": {},
   "outputs": [],
   "source": [
    "df[df[\"fare_amount\"]>100][\"distance\"].describe()"
   ]
  },
  {
   "cell_type": "code",
   "execution_count": null,
   "id": "3e5960b3",
   "metadata": {},
   "outputs": [],
   "source": [
    "df[(df[\"fare_amount\"]<10 ) & ( df[\"distance\"]>20)]"
   ]
  },
  {
   "cell_type": "code",
   "execution_count": null,
   "id": "14e1db23",
   "metadata": {},
   "outputs": [],
   "source": [
    "df[(df[\"fare_amount\"]<10 ) & ( df[\"distance\"]>20)].describe()"
   ]
  },
  {
   "cell_type": "code",
   "execution_count": null,
   "id": "e6e89f28",
   "metadata": {},
   "outputs": [],
   "source": [
    "df[df[\"fare_amount\"]<10][\"distance\"].describe()"
   ]
  },
  {
   "cell_type": "code",
   "execution_count": null,
   "id": "ebba8283",
   "metadata": {},
   "outputs": [],
   "source": [
    "df.drop(df[(df[\"fare_amount\"]<10 ) & ( df[\"distance\"]>20)].index,axis=0,inplace=True)"
   ]
  },
  {
   "cell_type": "code",
   "execution_count": null,
   "id": "7681d2dd",
   "metadata": {},
   "outputs": [],
   "source": [
    "df[df[\"fare_amount\"]<10][\"distance\"].describe()"
   ]
  },
  {
   "cell_type": "code",
   "execution_count": null,
   "id": "17418b14",
   "metadata": {},
   "outputs": [],
   "source": [
    "sns.scatterplot(df,x=df[\"distance\"],y=df[\"fare_amount\"])\n",
    "plt.title(\"Fare Amount By Distance \")"
   ]
  },
  {
   "cell_type": "code",
   "execution_count": null,
   "id": "c0834465",
   "metadata": {},
   "outputs": [],
   "source": []
  }
 ],
 "metadata": {
  "kernelspec": {
   "display_name": "base",
   "language": "python",
   "name": "python3"
  },
  "language_info": {
   "codemirror_mode": {
    "name": "ipython",
    "version": 3
   },
   "file_extension": ".py",
   "mimetype": "text/x-python",
   "name": "python",
   "nbconvert_exporter": "python",
   "pygments_lexer": "ipython3",
   "version": "3.12.7"
  }
 },
 "nbformat": 4,
 "nbformat_minor": 5
}
