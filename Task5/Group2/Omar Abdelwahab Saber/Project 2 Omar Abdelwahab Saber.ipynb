{
 "cells": [
  {
   "cell_type": "code",
   "execution_count": null,
   "id": "4c62e4f7",
   "metadata": {},
   "outputs": [],
   "source": [
    "import numpy as np\n",
    "import pandas as pd\n",
    "import plotly.express as px\n",
    "import plotly.figure_factory as ff\n",
    "import seaborn as sns \n",
    "import matplotlib.pyplot as plt\n",
    "from datasist.structdata import detect_outliers \n",
    "from sklearn.model_selection import train_test_split\n",
    "from sklearn.preprocessing import RobustScaler\n",
    "from imblearn.over_sampling import SMOTE\n",
    "from sklearn.linear_model import LinearRegression\n",
    "from sklearn.ensemble import RandomForestRegressor, GradientBoostingRegressor, AdaBoostRegressor, BaggingRegressor\n",
    "from sklearn.neighbors import KNeighborsRegressor\n",
    "from sklearn.svm import SVR\n",
    "from sklearn.tree import DecisionTreeRegressor\n",
    "from sklearn.metrics import r2_score, mean_squared_error, mean_absolute_error\n",
    "import xgboost as xgb\n",
    "import pickle"
   ]
  },
  {
   "cell_type": "code",
   "execution_count": null,
   "id": "8114092a",
   "metadata": {},
   "outputs": [],
   "source": [
    "sns.set(rc={\"figure.figsize\": [9,9]}, font_scale=1.5)"
   ]
  },
  {
   "cell_type": "code",
   "execution_count": null,
   "id": "70e3c88f",
   "metadata": {},
   "outputs": [],
   "source": [
    "df=pd.read_csv(r\"C:\\Users\\omara\\OneDrive\\Desktop\\career\\internship\\cellula\\week 4\\final_internship_data.csv\")"
   ]
  },
  {
   "cell_type": "code",
   "execution_count": null,
   "id": "46498522",
   "metadata": {},
   "outputs": [],
   "source": [
    "df.head()"
   ]
  },
  {
   "cell_type": "code",
   "execution_count": null,
   "id": "890c4ca3",
   "metadata": {},
   "outputs": [],
   "source": [
    "df.columns"
   ]
  },
  {
   "cell_type": "code",
   "execution_count": null,
   "id": "b970a4cc",
   "metadata": {},
   "outputs": [],
   "source": [
    "df.info()"
   ]
  },
  {
   "cell_type": "code",
   "execution_count": null,
   "id": "187836bf",
   "metadata": {},
   "outputs": [],
   "source": [
    "df.isna().sum()"
   ]
  },
  {
   "cell_type": "code",
   "execution_count": null,
   "id": "2706f073",
   "metadata": {},
   "outputs": [],
   "source": [
    "df.describe()"
   ]
  },
  {
   "cell_type": "code",
   "execution_count": null,
   "id": "f762a80d",
   "metadata": {},
   "outputs": [],
   "source": [
    "df.duplicated().sum()"
   ]
  },
  {
   "cell_type": "code",
   "execution_count": null,
   "id": "5a171b67",
   "metadata": {},
   "outputs": [],
   "source": [
    "df.sample(3)"
   ]
  },
  {
   "cell_type": "code",
   "execution_count": null,
   "id": "5d3d9d09",
   "metadata": {},
   "outputs": [],
   "source": [
    "df.dropna(axis=0,inplace=True)"
   ]
  },
  {
   "cell_type": "code",
   "execution_count": null,
   "id": "99b8eadd",
   "metadata": {},
   "outputs": [],
   "source": [
    "df.isna().sum()"
   ]
  },
  {
   "cell_type": "code",
   "execution_count": null,
   "id": "638db432",
   "metadata": {},
   "outputs": [],
   "source": [
    "df.columns"
   ]
  },
  {
   "cell_type": "code",
   "execution_count": null,
   "id": "bf12a9af",
   "metadata": {},
   "outputs": [],
   "source": [
    "df.drop([\"key\",\"Driver Name\",\"User Name\",\"User ID\"] , axis=1,inplace=True)\n"
   ]
  },
  {
   "cell_type": "code",
   "execution_count": null,
   "id": "4658c8ff",
   "metadata": {},
   "outputs": [],
   "source": [
    "df.head()"
   ]
  },
  {
   "cell_type": "code",
   "execution_count": null,
   "id": "a0ecf5f8",
   "metadata": {},
   "outputs": [],
   "source": [
    "def haversine (lon_1, lon_2, lat_1, lat_2):\n",
    "    \n",
    "    lon_1, lon_2, lat_1, lat_2 = map(np.radians, [lon_1, lon_2, lat_1, lat_2])  \n",
    "    diff_lon = lon_2 - lon_1\n",
    "    diff_lat = lat_2 - lat_1\n",
    "    km = 2 * 6371 * np.arcsin(np.sqrt(np.sin(diff_lat/2.0)**2 + \n",
    "                                      np.cos(lat_1) * np.cos(lat_2) * np.sin(diff_lon/2.0)**2))\n",
    "    return km"
   ]
  },
  {
   "cell_type": "code",
   "execution_count": null,
   "id": "2fd168e3",
   "metadata": {},
   "outputs": [],
   "source": [
    "df[\"my distance\"] =haversine(df[\"pickup_longitude\"],df[\"dropoff_longitude\"],df[\"pickup_latitude\"],df[\"dropoff_latitude\"])"
   ]
  },
  {
   "cell_type": "code",
   "execution_count": null,
   "id": "f4f8fd0b",
   "metadata": {},
   "outputs": [],
   "source": [
    "df.head()"
   ]
  },
  {
   "cell_type": "code",
   "execution_count": null,
   "id": "d7a5b439",
   "metadata": {},
   "outputs": [],
   "source": [
    "df.columns"
   ]
  },
  {
   "cell_type": "code",
   "execution_count": null,
   "id": "f9ae3355",
   "metadata": {},
   "outputs": [],
   "source": [
    "df.drop([\"dropoff_latitude\",\"dropoff_longitude\",\"pickup_latitude\",\"pickup_longitude\"] , axis=1,inplace=True)"
   ]
  },
  {
   "cell_type": "code",
   "execution_count": null,
   "id": "53c9d8de",
   "metadata": {},
   "outputs": [],
   "source": [
    "df.head()"
   ]
  },
  {
   "cell_type": "code",
   "execution_count": null,
   "id": "e8635a35",
   "metadata": {},
   "outputs": [],
   "source": [
    "df[\"pickup_datetime\"]=pd.to_datetime(df[\"pickup_datetime\"],format=\"%Y-%m-%d %H:%M:%S\",errors='coerce')"
   ]
  },
  {
   "cell_type": "code",
   "execution_count": null,
   "id": "1e968f8d",
   "metadata": {},
   "outputs": [],
   "source": [
    "df.info()"
   ]
  },
  {
   "cell_type": "code",
   "execution_count": null,
   "id": "1b20758b",
   "metadata": {},
   "outputs": [],
   "source": [
    "df=df.convert_dtypes()"
   ]
  },
  {
   "cell_type": "code",
   "execution_count": null,
   "id": "5824e123",
   "metadata": {},
   "outputs": [],
   "source": [
    "df.info()"
   ]
  },
  {
   "cell_type": "code",
   "execution_count": null,
   "id": "be68878f",
   "metadata": {},
   "outputs": [],
   "source": [
    "df.isna().sum()"
   ]
  },
  {
   "cell_type": "code",
   "execution_count": null,
   "id": "5306bb92",
   "metadata": {},
   "outputs": [],
   "source": [
    "df[\"min\"]=df[\"pickup_datetime\"].dt.minute"
   ]
  },
  {
   "cell_type": "code",
   "execution_count": null,
   "id": "cef501ad",
   "metadata": {},
   "outputs": [],
   "source": [
    "df.head()"
   ]
  },
  {
   "cell_type": "code",
   "execution_count": null,
   "id": "21296574",
   "metadata": {},
   "outputs": [],
   "source": [
    "df.drop([\"pickup_datetime\"],axis=1,inplace=True)"
   ]
  },
  {
   "cell_type": "code",
   "execution_count": null,
   "id": "5d6f141c",
   "metadata": {},
   "outputs": [],
   "source": [
    "df.head()"
   ]
  },
  {
   "cell_type": "code",
   "execution_count": null,
   "id": "c198edd3",
   "metadata": {},
   "outputs": [],
   "source": [
    "px.pie(df,names=df[\"Car Condition\"],title= \"Car condition distribution\").update_traces(textinfo=\"percent\")"
   ]
  },
  {
   "cell_type": "code",
   "execution_count": null,
   "id": "81d174e2",
   "metadata": {},
   "outputs": [],
   "source": [
    "px.histogram(df, x=\"Car Condition\", y=\"fare_amount\", histfunc=\"avg\", title=\"Average Fare Amount by Car Condition\")"
   ]
  },
  {
   "cell_type": "code",
   "execution_count": null,
   "id": "63fa28b7",
   "metadata": {},
   "outputs": [],
   "source": [
    "px.histogram(df, x=\"Car Condition\", y=df[\"distance\"], histfunc=\"avg\", title=\"Average distance by Car Condition\")"
   ]
  },
  {
   "cell_type": "code",
   "execution_count": null,
   "id": "50a1e667",
   "metadata": {},
   "outputs": [],
   "source": [
    "px.histogram(df, x=\"Car Condition\", y=df[\"my distance\"], histfunc=\"avg\", title=\"Average distance by Car Condition\")"
   ]
  },
  {
   "cell_type": "code",
   "execution_count": null,
   "id": "b99cbe54",
   "metadata": {},
   "outputs": [],
   "source": [
    "df[\"Car Condition\"].unique()"
   ]
  },
  {
   "cell_type": "code",
   "execution_count": null,
   "id": "08bc2baf",
   "metadata": {},
   "outputs": [],
   "source": [
    "fig, axes = plt.subplots(1, 4, figsize=(18, 5), sharey=True)\n",
    "conditions = ['Very Good', 'Excellent', 'Bad', 'Good']\n",
    "\n",
    "for i, condition in enumerate(conditions):\n",
    "    sns.boxplot(data=df[df['Car Condition'] == condition],\n",
    "                y='fare_amount',\n",
    "                ax=axes[i],\n",
    "                color='skyblue')\n",
    "    axes[i].set_title(f\"Car Condition: {condition}\")\n",
    "    axes[i].set_xlabel(\"\")  \n",
    "    axes[i].set_ylabel(\"Fare Amount ($)\" if i == 0 else \"\") \n",
    "\n",
    "plt.tight_layout()\n",
    "plt.suptitle(\"Fare Amount Distribution by Car Condition\", fontsize=16, y=1.05)\n",
    "plt.show()\n"
   ]
  },
  {
   "cell_type": "code",
   "execution_count": null,
   "id": "e7eee99c",
   "metadata": {},
   "outputs": [],
   "source": [
    "px.histogram(df, x=\"Car Condition\", y=df[\"passenger_count\"], histfunc=\"avg\", title=\"Average passenger count by Car Condition\")"
   ]
  },
  {
   "cell_type": "code",
   "execution_count": null,
   "id": "221a5de1",
   "metadata": {},
   "outputs": [],
   "source": [
    "df[\"Weather\"].unique()"
   ]
  },
  {
   "cell_type": "code",
   "execution_count": null,
   "id": "d9c28baa",
   "metadata": {},
   "outputs": [],
   "source": [
    "px.pie(df,names=df[\"Weather\"],title= \"Weather condition distribution\").update_traces(textinfo=\"percent\")"
   ]
  },
  {
   "cell_type": "code",
   "execution_count": null,
   "id": "4f653ed1",
   "metadata": {},
   "outputs": [],
   "source": [
    "plt.figure(figsize=(12,6))\n",
    "sns.countplot(data=df, x=\"Car Condition\", hue=\"Weather\")\n",
    "plt.title(\"Weather Distribution by Car Condition\")\n",
    "plt.ylabel(\"Number of Rides\")\n",
    "plt.xticks(rotation=30)\n",
    "plt.show()"
   ]
  },
  {
   "cell_type": "code",
   "execution_count": null,
   "id": "3a920e7c",
   "metadata": {},
   "outputs": [],
   "source": [
    "plt.figure(figsize=(14,6))\n",
    "sns.boxplot(data=df, x=\"Car Condition\", y=\"fare_amount\", hue=\"Weather\")\n",
    "plt.title(\"Fare Amount Distribution by Car Condition and Weather\")\n",
    "plt.ylabel(\"Fare Amount\")\n",
    "plt.xticks(rotation=15)\n",
    "plt.legend(title=\"Weather\", bbox_to_anchor=(1.05, 1), loc=\"upper left\")\n",
    "plt.show()"
   ]
  },
  {
   "cell_type": "code",
   "execution_count": null,
   "id": "bbee390c",
   "metadata": {},
   "outputs": [],
   "source": [
    "df[\"Traffic Condition\"].unique()"
   ]
  },
  {
   "cell_type": "code",
   "execution_count": null,
   "id": "98c7fb32",
   "metadata": {},
   "outputs": [],
   "source": [
    "px.pie(df,names=df[\"Traffic Condition\"],title= \"Traffic condition distribution\").update_traces(textinfo=\"percent\")"
   ]
  },
  {
   "cell_type": "code",
   "execution_count": null,
   "id": "a0fbd354",
   "metadata": {},
   "outputs": [],
   "source": [
    "plt.figure(figsize=(12,6))\n",
    "sns.countplot(data=df, x=\"Car Condition\", hue=\"Traffic Condition\")\n",
    "plt.title(\"Traffic Condition Distribution by Car Condition\")\n",
    "plt.ylabel(\"Number of Rides\")\n",
    "plt.xticks(rotation=30)\n",
    "plt.show()"
   ]
  },
  {
   "cell_type": "code",
   "execution_count": null,
   "id": "bcc4b21c",
   "metadata": {},
   "outputs": [],
   "source": [
    "plt.figure(figsize=(14,6))\n",
    "sns.boxplot(data=df, x=\"Car Condition\", y=\"fare_amount\", hue=df[\"Traffic Condition\"])\n",
    "plt.title(\"Fare Amount Distribution by Car Condition and Traffic Condition\")\n",
    "plt.ylabel(\"Fare Amount\")\n",
    "plt.xticks(rotation=15)\n",
    "plt.legend(title=\"Traffic Condition\", bbox_to_anchor=(1.05, 1), loc=\"upper left\")\n",
    "plt.show()"
   ]
  },
  {
   "cell_type": "code",
   "execution_count": null,
   "id": "29b2e1a0",
   "metadata": {},
   "outputs": [],
   "source": [
    "df.head()"
   ]
  },
  {
   "cell_type": "code",
   "execution_count": null,
   "id": "5733b6d6",
   "metadata": {},
   "outputs": [],
   "source": [
    "px.box(df, x=\"Weather\", y=\"fare_amount\", color=\"Car Condition\",title=\"Fare Amount Distribution by Weather and Car Condition\")\n"
   ]
  },
  {
   "cell_type": "code",
   "execution_count": null,
   "id": "cc771bcd",
   "metadata": {},
   "outputs": [],
   "source": [
    "px.box(df, x=df[\"Traffic Condition\"], y=\"fare_amount\", color=\"Car Condition\",title=\"Fare Amount Distribution by Traffic Condition and Car Condition\")\n"
   ]
  },
  {
   "cell_type": "code",
   "execution_count": null,
   "id": "9405a9bf",
   "metadata": {},
   "outputs": [],
   "source": [
    "df.head()"
   ]
  },
  {
   "cell_type": "code",
   "execution_count": null,
   "id": "4b90cf86",
   "metadata": {},
   "outputs": [],
   "source": [
    "sns.scatterplot(df,x=df[\"passenger_count\"],y=df[\"fare_amount\"])\n",
    "plt.title(\"Passenger Count By Fare Amount\")"
   ]
  },
  {
   "cell_type": "code",
   "execution_count": null,
   "id": "411ca94e",
   "metadata": {},
   "outputs": [],
   "source": [
    "sns.scatterplot(df,x=df[\"distance\"],y=df[\"fare_amount\"])\n",
    "plt.title(\"distance By Fare Amount\")"
   ]
  },
  {
   "cell_type": "code",
   "execution_count": null,
   "id": "5a4a6232",
   "metadata": {},
   "outputs": [],
   "source": [
    "sns.scatterplot(df,x=df[\"my distance\"],y=df[\"fare_amount\"])\n",
    "plt.title(\"my distance By Fare Amount\")"
   ]
  },
  {
   "cell_type": "code",
   "execution_count": null,
   "id": "ce5407f3",
   "metadata": {},
   "outputs": [],
   "source": [
    "df[df[\"fare_amount\"]<=0].count()"
   ]
  },
  {
   "cell_type": "code",
   "execution_count": null,
   "id": "ff4b50a1",
   "metadata": {},
   "outputs": [],
   "source": [
    "df.drop(df[df[\"fare_amount\"]<=0].index,axis=0,inplace=True)"
   ]
  },
  {
   "cell_type": "code",
   "execution_count": null,
   "id": "c8ff8ee5",
   "metadata": {},
   "outputs": [],
   "source": [
    "df[df[\"distance\"]<=0]"
   ]
  },
  {
   "cell_type": "code",
   "execution_count": null,
   "id": "25333cee",
   "metadata": {},
   "outputs": [],
   "source": [
    "df.info()"
   ]
  },
  {
   "cell_type": "code",
   "execution_count": null,
   "id": "2581fb98",
   "metadata": {},
   "outputs": [],
   "source": [
    "df.drop(df[df[\"distance\"]<=0].index,axis=0,inplace=True)"
   ]
  },
  {
   "cell_type": "code",
   "execution_count": null,
   "id": "6b663cb9",
   "metadata": {},
   "outputs": [],
   "source": [
    "df.info()"
   ]
  },
  {
   "cell_type": "code",
   "execution_count": null,
   "id": "11a78232",
   "metadata": {},
   "outputs": [],
   "source": [
    "px.scatter(df,x=df[\"distance\"],y=df[\"fare_amount\"],title=\"Fare Amount By Distance \")"
   ]
  },
  {
   "cell_type": "code",
   "execution_count": null,
   "id": "96190cf6",
   "metadata": {},
   "outputs": [],
   "source": [
    "sns.scatterplot(df,x=df[\"distance\"],y=df[\"fare_amount\"])\n",
    "plt.title(\"Fare Amount By Distance \")"
   ]
  },
  {
   "cell_type": "code",
   "execution_count": null,
   "id": "e191ac88",
   "metadata": {},
   "outputs": [],
   "source": [
    "sns.scatterplot(df,x=df[\"my distance\"],y=df[\"fare_amount\"])\n",
    "plt.title(\"Fare Amount By Distance \")"
   ]
  },
  {
   "cell_type": "code",
   "execution_count": null,
   "id": "75aed561",
   "metadata": {},
   "outputs": [],
   "source": [
    "df[df[\"my distance\"]<=0].count()"
   ]
  },
  {
   "cell_type": "code",
   "execution_count": null,
   "id": "745dfd93",
   "metadata": {},
   "outputs": [],
   "source": [
    "plt.figure(figsize=(12, 8))\n",
    "sns.heatmap(df.corr(numeric_only=True), annot=True, fmt=\".1f\", cmap=\"coolwarm\")\n",
    "plt.title(\"Correlation Heatmap\")\n",
    "plt.show()\n"
   ]
  },
  {
   "cell_type": "code",
   "execution_count": null,
   "id": "60317f10",
   "metadata": {},
   "outputs": [],
   "source": [
    "px.box(df,x=df[\"distance\"])"
   ]
  },
  {
   "cell_type": "code",
   "execution_count": null,
   "id": "d0501a1f",
   "metadata": {},
   "outputs": [],
   "source": [
    "px.box(df,x=df[\"my distance\"])"
   ]
  },
  {
   "cell_type": "code",
   "execution_count": null,
   "id": "02204f1e",
   "metadata": {},
   "outputs": [],
   "source": [
    "sns.boxplot(df,x=df[\"fare_amount\"])"
   ]
  },
  {
   "cell_type": "code",
   "execution_count": null,
   "id": "f55f5101",
   "metadata": {},
   "outputs": [],
   "source": [
    "df[(df[\"fare_amount\"]>60) & (df[\"distance\"]<1) ]"
   ]
  },
  {
   "cell_type": "code",
   "execution_count": null,
   "id": "c6cbb2af",
   "metadata": {},
   "outputs": [],
   "source": [
    "df.describe()"
   ]
  },
  {
   "cell_type": "code",
   "execution_count": null,
   "id": "28ed9396",
   "metadata": {},
   "outputs": [],
   "source": [
    "df[df[\"fare_amount\"]==df[\"fare_amount\"].min()]"
   ]
  },
  {
   "cell_type": "code",
   "execution_count": null,
   "id": "1ecdf965",
   "metadata": {},
   "outputs": [],
   "source": [
    "sns.histplot(df,x=df[\"fare_amount\"])"
   ]
  },
  {
   "cell_type": "code",
   "execution_count": null,
   "id": "f8cfeda9",
   "metadata": {},
   "outputs": [],
   "source": [
    "df[df[\"fare_amount\"]==df[\"fare_amount\"].min()]"
   ]
  },
  {
   "cell_type": "code",
   "execution_count": null,
   "id": "4ed88338",
   "metadata": {},
   "outputs": [],
   "source": [
    "df.drop(df[df[\"fare_amount\"]==df[\"fare_amount\"].min()].index, axis=0,inplace=True)"
   ]
  },
  {
   "cell_type": "code",
   "execution_count": null,
   "id": "f8ccdcfd",
   "metadata": {},
   "outputs": [],
   "source": [
    "df[df[\"fare_amount\"]==df[\"fare_amount\"].min()]"
   ]
  },
  {
   "cell_type": "code",
   "execution_count": null,
   "id": "a0a4ce21",
   "metadata": {},
   "outputs": [],
   "source": [
    "df[df[\"distance\"]==df[\"distance\"].max()]"
   ]
  },
  {
   "cell_type": "code",
   "execution_count": null,
   "id": "68ffd778",
   "metadata": {},
   "outputs": [],
   "source": [
    "df.drop(df[df[\"fare_amount\"]==df[\"fare_amount\"].min()].index, axis=0,inplace=True)"
   ]
  },
  {
   "cell_type": "code",
   "execution_count": null,
   "id": "8a4d3725",
   "metadata": {},
   "outputs": [],
   "source": [
    "df[df[\"fare_amount\"]==df[\"fare_amount\"].min()]"
   ]
  },
  {
   "cell_type": "code",
   "execution_count": null,
   "id": "6f67e439",
   "metadata": {},
   "outputs": [],
   "source": [
    "df.groupby(\"year\")[\"fare_amount\"].mean()\n"
   ]
  },
  {
   "cell_type": "code",
   "execution_count": null,
   "id": "f07cbbfb",
   "metadata": {},
   "outputs": [],
   "source": [
    "sns.barplot(df,x=df[\"year\"],y=df[\"fare_amount\"])\n",
    "plt.title(\"Year by Average Fare Amount\")"
   ]
  },
  {
   "cell_type": "code",
   "execution_count": null,
   "id": "6f9d9621",
   "metadata": {},
   "outputs": [],
   "source": [
    "df.columns"
   ]
  },
  {
   "cell_type": "code",
   "execution_count": null,
   "id": "9a65fdbb",
   "metadata": {},
   "outputs": [],
   "source": [
    "df.drop([\"my distance\"] , axis=1,inplace=True)"
   ]
  },
  {
   "cell_type": "code",
   "execution_count": null,
   "id": "e0443769",
   "metadata": {},
   "outputs": [],
   "source": [
    "df.sample(3)"
   ]
  },
  {
   "cell_type": "code",
   "execution_count": null,
   "id": "c795b64d",
   "metadata": {},
   "outputs": [],
   "source": [
    "df[df[\"distance\"]>50]"
   ]
  },
  {
   "cell_type": "code",
   "execution_count": null,
   "id": "f313639e",
   "metadata": {},
   "outputs": [],
   "source": [
    "df[df[\"distance\"] > 50][\"fare_amount\"].describe()"
   ]
  },
  {
   "cell_type": "code",
   "execution_count": null,
   "id": "3372f5da",
   "metadata": {},
   "outputs": [],
   "source": [
    "df.drop(df[df[\"distance\"] > 50].index,axis=0,inplace=True)"
   ]
  },
  {
   "cell_type": "code",
   "execution_count": null,
   "id": "9e7ea71f",
   "metadata": {},
   "outputs": [],
   "source": [
    "df.describe()"
   ]
  },
  {
   "cell_type": "code",
   "execution_count": null,
   "id": "6ead672b",
   "metadata": {},
   "outputs": [],
   "source": [
    "df[df[\"distance\"]<0.1]"
   ]
  },
  {
   "cell_type": "code",
   "execution_count": null,
   "id": "149ba2e2",
   "metadata": {},
   "outputs": [],
   "source": [
    "df[df[\"distance\"] <0.1][\"fare_amount\"].describe()"
   ]
  },
  {
   "cell_type": "code",
   "execution_count": null,
   "id": "e63790c5",
   "metadata": {},
   "outputs": [],
   "source": [
    "df.drop(df[df[\"distance\"]<0.1].index,axis=0,inplace=True)"
   ]
  },
  {
   "cell_type": "code",
   "execution_count": null,
   "id": "31e68e69",
   "metadata": {},
   "outputs": [],
   "source": [
    "df[[\"distance\"]].describe()"
   ]
  },
  {
   "cell_type": "code",
   "execution_count": null,
   "id": "e67d2df2",
   "metadata": {},
   "outputs": [],
   "source": [
    "df.info()"
   ]
  },
  {
   "cell_type": "code",
   "execution_count": null,
   "id": "57669792",
   "metadata": {},
   "outputs": [],
   "source": [
    "df[df[\"fare_amount\"]>100][\"distance\"].describe()"
   ]
  },
  {
   "cell_type": "code",
   "execution_count": null,
   "id": "cadf0eda",
   "metadata": {},
   "outputs": [],
   "source": [
    "df[(df[\"fare_amount\"]>100 ) & ( df[\"distance\"]<10)]"
   ]
  },
  {
   "cell_type": "code",
   "execution_count": null,
   "id": "468a3427",
   "metadata": {},
   "outputs": [],
   "source": [
    "df.drop(df[(df[\"fare_amount\"]>100 ) & ( df[\"distance\"]<10)].index,axis=0,inplace=True)"
   ]
  },
  {
   "cell_type": "code",
   "execution_count": null,
   "id": "af73519b",
   "metadata": {},
   "outputs": [],
   "source": [
    "df[df[\"fare_amount\"]>100][\"distance\"].describe()"
   ]
  },
  {
   "cell_type": "code",
   "execution_count": null,
   "id": "3e5960b3",
   "metadata": {},
   "outputs": [],
   "source": [
    "df[(df[\"fare_amount\"]<10 ) & ( df[\"distance\"]>20)]"
   ]
  },
  {
   "cell_type": "code",
   "execution_count": null,
   "id": "14e1db23",
   "metadata": {},
   "outputs": [],
   "source": [
    "df[(df[\"fare_amount\"]<10 ) & ( df[\"distance\"]>20)].describe()"
   ]
  },
  {
   "cell_type": "code",
   "execution_count": null,
   "id": "e6e89f28",
   "metadata": {},
   "outputs": [],
   "source": [
    "df[df[\"fare_amount\"]<10][\"distance\"].describe()"
   ]
  },
  {
   "cell_type": "code",
   "execution_count": null,
   "id": "ebba8283",
   "metadata": {},
   "outputs": [],
   "source": [
    "df.drop(df[(df[\"fare_amount\"]<10 ) & ( df[\"distance\"]>20)].index,axis=0,inplace=True)"
   ]
  },
  {
   "cell_type": "code",
   "execution_count": null,
   "id": "7681d2dd",
   "metadata": {},
   "outputs": [],
   "source": [
    "df[df[\"fare_amount\"]<10][\"distance\"].describe()"
   ]
  },
  {
   "cell_type": "code",
   "execution_count": null,
   "id": "17418b14",
   "metadata": {},
   "outputs": [],
   "source": [
    "sns.scatterplot(df,x=df[\"distance\"],y=df[\"fare_amount\"])\n",
    "plt.title(\"Fare Amount By Distance \")"
   ]
  },
  {
   "cell_type": "code",
   "execution_count": null,
   "id": "c0834465",
   "metadata": {},
   "outputs": [],
   "source": [
    "df.head()"
   ]
  },
  {
   "cell_type": "code",
   "execution_count": null,
   "id": "efac36b0",
   "metadata": {},
   "outputs": [],
   "source": [
    "df.drop([\"nyc_dist\",\"jfk_dist\",\"lga_dist\",\"ewr_dist\",\"bearing\",\"min\"],axis=1,inplace=True)"
   ]
  },
  {
   "cell_type": "code",
   "execution_count": null,
   "id": "29ccc673",
   "metadata": {},
   "outputs": [],
   "source": [
    "df.head()"
   ]
  },
  {
   "cell_type": "code",
   "execution_count": null,
   "id": "b579fa4c",
   "metadata": {},
   "outputs": [],
   "source": [
    "df[\"fare_per_km\"]=df[\"fare_amount\"]/df[\"distance\"]"
   ]
  },
  {
   "cell_type": "code",
   "execution_count": null,
   "id": "3e9bc392",
   "metadata": {},
   "outputs": [],
   "source": [
    "df.head()"
   ]
  },
  {
   "cell_type": "code",
   "execution_count": null,
   "id": "87873e6f",
   "metadata": {},
   "outputs": [],
   "source": [
    "df.groupby(\"year\")[[\"fare_per_km\"]].mean()"
   ]
  },
  {
   "cell_type": "code",
   "execution_count": null,
   "id": "52a477ac",
   "metadata": {},
   "outputs": [],
   "source": [
    "df[df['fare_per_km']>20]"
   ]
  },
  {
   "cell_type": "code",
   "execution_count": null,
   "id": "5620a083",
   "metadata": {},
   "outputs": [],
   "source": [
    "df.drop(df[df['fare_per_km']>20].index,axis=0,inplace=True)"
   ]
  },
  {
   "cell_type": "code",
   "execution_count": null,
   "id": "54576b51",
   "metadata": {},
   "outputs": [],
   "source": [
    "df[\"fare_per_km\"].describe()"
   ]
  },
  {
   "cell_type": "code",
   "execution_count": null,
   "id": "e6fa1c3e",
   "metadata": {},
   "outputs": [],
   "source": [
    "df[df['fare_per_km']<1]"
   ]
  },
  {
   "cell_type": "code",
   "execution_count": null,
   "id": "bd54ac02",
   "metadata": {},
   "outputs": [],
   "source": [
    "df.drop(df[df['fare_per_km']<1].index,axis=0,inplace=True)"
   ]
  },
  {
   "cell_type": "code",
   "execution_count": null,
   "id": "1703a288",
   "metadata": {},
   "outputs": [],
   "source": [
    "df[\"fare_per_km\"].describe()"
   ]
  },
  {
   "cell_type": "code",
   "execution_count": null,
   "id": "09566255",
   "metadata": {},
   "outputs": [],
   "source": [
    "df[df['fare_per_km']>15]"
   ]
  },
  {
   "cell_type": "code",
   "execution_count": null,
   "id": "88aae069",
   "metadata": {},
   "outputs": [],
   "source": [
    "df.drop(df[df['fare_per_km']>15].index,axis=0,inplace=True)"
   ]
  },
  {
   "cell_type": "code",
   "execution_count": null,
   "id": "4d3cfa75",
   "metadata": {},
   "outputs": [],
   "source": [
    "df[\"fare_per_km\"].describe()"
   ]
  },
  {
   "cell_type": "code",
   "execution_count": null,
   "id": "532630ac",
   "metadata": {},
   "outputs": [],
   "source": [
    "df.head()"
   ]
  },
  {
   "cell_type": "code",
   "execution_count": null,
   "id": "15d89bb1",
   "metadata": {},
   "outputs": [],
   "source": [
    "sns.scatterplot(df,x=df[\"distance\"],y=df[\"fare_per_km\"])"
   ]
  },
  {
   "cell_type": "code",
   "execution_count": null,
   "id": "1b13ee40",
   "metadata": {},
   "outputs": [],
   "source": [
    "df[\"sol_dist\"].describe()"
   ]
  },
  {
   "cell_type": "code",
   "execution_count": null,
   "id": "ab600a44",
   "metadata": {},
   "outputs": [],
   "source": [
    "df[df[\"sol_dist\"]>50]"
   ]
  },
  {
   "cell_type": "code",
   "execution_count": null,
   "id": "ec98d546",
   "metadata": {},
   "outputs": [],
   "source": [
    "df.drop(df[df[\"sol_dist\"]>50].index,axis=0,inplace=True)"
   ]
  },
  {
   "cell_type": "code",
   "execution_count": null,
   "id": "ddcaeea1",
   "metadata": {},
   "outputs": [],
   "source": [
    "df[\"sol_dist\"].describe()"
   ]
  },
  {
   "cell_type": "code",
   "execution_count": null,
   "id": "fd5ca138",
   "metadata": {},
   "outputs": [],
   "source": [
    "sns.countplot(data=df, x=\"hour\",palette=\"viridis\",hue=\"hour\",legend=False)\n",
    "plt.title(\"Number of Registrations by Hour\")\n",
    "plt.xlabel(\"Hour of the Day\")\n",
    "plt.ylabel(\"Count\")\n",
    "plt.xticks(rotation=45)\n",
    "plt.tight_layout()\n",
    "plt.show()\n"
   ]
  },
  {
   "cell_type": "code",
   "execution_count": null,
   "id": "1c828348",
   "metadata": {},
   "outputs": [],
   "source": [
    "sns.barplot(data=df, x=\"hour\", y=\"fare_amount\", estimator=\"mean\", errorbar=None,palette=\"viridis\",hue=\"hour\",legend=False)\n",
    "\n",
    "plt.title(\"Average Fare Amount by Hour\")\n",
    "plt.xlabel(\"Hour of the Day\")\n",
    "plt.ylabel(\"Average Fare Amount\")\n",
    "plt.xticks(rotation=45)\n",
    "plt.show()"
   ]
  },
  {
   "cell_type": "code",
   "execution_count": null,
   "id": "a8ea5ca8",
   "metadata": {},
   "outputs": [],
   "source": [
    "sns.countplot(data=df, x=\"day\",palette=\"viridis\",hue=\"day\",legend=False)\n",
    "plt.title(\"Number of Registrations by day\")\n",
    "plt.xlabel(\"Days\")\n",
    "plt.ylabel(\"Count\")\n",
    "plt.xticks(rotation=45)\n",
    "plt.tight_layout()\n",
    "plt.show()\n"
   ]
  },
  {
   "cell_type": "code",
   "execution_count": null,
   "id": "476cc181",
   "metadata": {},
   "outputs": [],
   "source": [
    "sns.barplot(data=df, x=\"day\", y=\"fare_amount\", estimator=\"mean\", errorbar=None,palette=\"viridis\",hue=\"day\",legend=False)\n",
    "\n",
    "plt.title(\"Average Fare Amount by day\")\n",
    "plt.xlabel(\"Days\")\n",
    "plt.ylabel(\"Average Fare Amount\")\n",
    "plt.xticks(rotation=45)\n",
    "plt.show()"
   ]
  },
  {
   "cell_type": "code",
   "execution_count": null,
   "id": "063a8c8a",
   "metadata": {},
   "outputs": [],
   "source": [
    "sns.countplot(data=df, x=\"month\",palette=\"viridis\",hue=\"month\",legend=False)\n",
    "plt.title(\"Number of Registrations by month\")\n",
    "plt.xlabel(\"months\")\n",
    "plt.ylabel(\"Count\")\n",
    "plt.xticks(rotation=45)\n",
    "plt.tight_layout()\n",
    "plt.show()\n"
   ]
  },
  {
   "cell_type": "code",
   "execution_count": null,
   "id": "e9b5a4c0",
   "metadata": {},
   "outputs": [],
   "source": [
    "sns.barplot(data=df, x=\"month\", y=\"fare_amount\", estimator=\"mean\", errorbar=None,palette=\"viridis\",hue=\"month\",legend=False)\n",
    "\n",
    "plt.title(\"Average Fare Amount by month\")\n",
    "plt.xlabel(\"month\")\n",
    "plt.ylabel(\"Average Fare Amount\")\n",
    "plt.xticks(rotation=45)\n",
    "plt.show()"
   ]
  },
  {
   "cell_type": "code",
   "execution_count": null,
   "id": "1d1cf574",
   "metadata": {},
   "outputs": [],
   "source": [
    "sns.countplot(data=df, x=\"year\",palette=\"viridis\",hue=\"year\",legend=False)\n",
    "plt.title(\"Number of Registrations by year\")\n",
    "plt.xlabel(\"year \")\n",
    "plt.ylabel(\"Count\")\n",
    "plt.xticks(rotation=45)\n",
    "plt.tight_layout()\n",
    "plt.show()\n"
   ]
  },
  {
   "cell_type": "code",
   "execution_count": null,
   "id": "27ec5c27",
   "metadata": {},
   "outputs": [],
   "source": [
    "sns.barplot(data=df, x=\"year\", y=\"fare_amount\", estimator=\"mean\", errorbar=None,palette=\"viridis\",hue=\"year\",legend=False)\n",
    "\n",
    "plt.title(\"Average Fare Amount by year\")\n",
    "plt.xlabel(\"year\")\n",
    "plt.ylabel(\"Average Fare Amount\")\n",
    "plt.xticks(rotation=45)\n",
    "plt.show()"
   ]
  },
  {
   "cell_type": "code",
   "execution_count": null,
   "id": "393d06e7",
   "metadata": {},
   "outputs": [],
   "source": [
    "df.head()"
   ]
  },
  {
   "cell_type": "code",
   "execution_count": null,
   "id": "52f4d04e",
   "metadata": {},
   "outputs": [],
   "source": [
    "df[\"Car Condition\"].unique()"
   ]
  },
  {
   "cell_type": "code",
   "execution_count": null,
   "id": "38b7cb22",
   "metadata": {},
   "outputs": [],
   "source": [
    "carmap={\n",
    "    \"Bad\":0,\n",
    "    \"Good\":1,\n",
    "    \"Very Good\":2,\n",
    "    \"Excellent\":3\n",
    "}\n",
    "df[\"Car Condition\"]=df[\"Car Condition\"].map(carmap)"
   ]
  },
  {
   "cell_type": "code",
   "execution_count": null,
   "id": "49431f42",
   "metadata": {},
   "outputs": [],
   "source": [
    "df.columns=df.columns.str.strip().str.lower().str.replace(\" \",\"_\")"
   ]
  },
  {
   "cell_type": "code",
   "execution_count": null,
   "id": "943da683",
   "metadata": {},
   "outputs": [],
   "source": [
    "df.columns"
   ]
  },
  {
   "cell_type": "code",
   "execution_count": null,
   "id": "3cad9d03",
   "metadata": {},
   "outputs": [],
   "source": [
    "df = pd.get_dummies(df, columns=[\"weather\", \"traffic_condition\"], drop_first=True)"
   ]
  },
  {
   "cell_type": "code",
   "execution_count": null,
   "id": "28841111",
   "metadata": {},
   "outputs": [],
   "source": [
    "df.head()"
   ]
  },
  {
   "cell_type": "code",
   "execution_count": null,
   "id": "d0561efd",
   "metadata": {},
   "outputs": [],
   "source": [
    "x=df.drop(df[[\"fare_amount\",\"fare_per_km\"]],axis=1)\n",
    "y=df[\"fare_amount\"]"
   ]
  },
  {
   "cell_type": "code",
   "execution_count": null,
   "id": "4242b551",
   "metadata": {},
   "outputs": [],
   "source": [
    "X_train, X_test, y_train, y_test = train_test_split(x, y, test_size=0.2, random_state=42)\n"
   ]
  },
  {
   "cell_type": "code",
   "execution_count": null,
   "id": "b6959282",
   "metadata": {},
   "outputs": [],
   "source": [
    "scaler=RobustScaler()"
   ]
  },
  {
   "cell_type": "code",
   "execution_count": null,
   "id": "41889a9b",
   "metadata": {},
   "outputs": [],
   "source": [
    "X_train[[\"sol_dist\", \"distance\"]] = scaler.fit_transform(X_train[[\"sol_dist\", \"distance\"]])\n",
    "X_test[[\"sol_dist\", \"distance\"]] = scaler.transform(X_test[[\"sol_dist\", \"distance\"]])  "
   ]
  },
  {
   "cell_type": "code",
   "execution_count": null,
   "id": "102ef805",
   "metadata": {},
   "outputs": [],
   "source": [
    "models = {\n",
    "    \"Linear Regression\": LinearRegression(),\n",
    "    \"Random Forest\": RandomForestRegressor(),\n",
    "    \"Gradient Boosting\": GradientBoostingRegressor(),\n",
    "    \"AdaBoost\": AdaBoostRegressor(),\n",
    "    \"Bagging\": BaggingRegressor(),\n",
    "    \"XGBoost\": xgb.XGBRegressor(),\n",
    "    \"KNN\": KNeighborsRegressor(),\n",
    "    \"Decision Tree\": DecisionTreeRegressor()\n",
    "}\n",
    "\n",
    "for name, model in models.items():\n",
    "    model.fit(X_train, y_train)\n",
    "    y_train_pred = model.predict(X_train)\n",
    "    y_test_pred = model.predict(X_test)\n",
    "\n",
    "    train_r2 = r2_score(y_train, y_train_pred)\n",
    "    train_mse = mean_squared_error(y_train, y_train_pred)\n",
    "    train_rmse = np.sqrt(train_mse)\n",
    "    train_mae = mean_absolute_error(y_train, y_train_pred)\n",
    "\n",
    "    test_r2 = r2_score(y_test, y_test_pred)\n",
    "    test_mse = mean_squared_error(y_test, y_test_pred)\n",
    "    test_rmse = np.sqrt(test_mse)\n",
    "    test_mae = mean_absolute_error(y_test, y_test_pred)\n",
    "\n",
    "    print(f\"Model: {name}\")\n",
    "    print(f\"Train - R2: {train_r2:.4f} | RMSE: {train_rmse:.4f} | MSE: {train_mse:.4f} | MAE: {train_mae:.4f}\")\n",
    "    print(f\"Test  - R2: {test_r2:.4f} | RMSE: {test_rmse:.4f} | MSE: {test_mse:.4f} | MAE: {test_mae:.4f}\")\n",
    "    print(\"-\" * 50)"
   ]
  },
  {
   "cell_type": "code",
   "execution_count": null,
   "id": "5ad9b3ca",
   "metadata": {},
   "outputs": [],
   "source": [
    "from xgboost import XGBRegressor\n",
    "from sklearn.model_selection import RandomizedSearchCV\n",
    "\n",
    "param_grid = {\n",
    "    'n_estimators': [100, 200, 300],\n",
    "    'max_depth': [3, 5, 7],\n",
    "    'learning_rate': [0.01, 0.05, 0.1],\n",
    "    'subsample': [0.8, 1.0],\n",
    "    'colsample_bytree': [0.8, 1.0]\n",
    "}\n",
    "\n",
    "xgb_model = XGBRegressor()\n",
    "search = RandomizedSearchCV(\n",
    "    estimator=xgb_model,\n",
    "    param_distributions=param_grid,\n",
    "    n_iter=10,\n",
    "    scoring='r2',\n",
    "    cv=3,\n",
    "    verbose=1,\n",
    "    n_jobs=-1\n",
    ")\n",
    "\n",
    "search.fit(X_train, y_train)\n",
    "print(\"Best parameters:\", search.best_params_)\n",
    "print(\"Best CV score (R2):\", search.best_score_)\n"
   ]
  },
  {
   "cell_type": "code",
   "execution_count": null,
   "id": "5580f5d3",
   "metadata": {},
   "outputs": [],
   "source": [
    "best_model = search.best_estimator_\n",
    "best_model.fit(X_train, y_train)\n",
    "y_pred = search.best_estimator_.predict(X_test)\n",
    "mse = mean_squared_error(y_test, y_pred)\n",
    "rmse = np.sqrt(mse)\n",
    "mae = mean_absolute_error(y_test, y_pred)\n",
    "r2 = r2_score(y_test, y_pred)\n",
    "\n",
    "print(f\" Mean Squared Error (MSE): {mse:.4f}\")\n",
    "print(f\" Root Mean Squared Error (RMSE): {rmse:.4f}\")\n",
    "print(f\" Mean Absolute Error (MAE): {mae:.4f}\")\n",
    "print(f\" R² Score: {r2:.4f}\")\n"
   ]
  },
  {
   "cell_type": "code",
   "execution_count": null,
   "id": "678dc866",
   "metadata": {},
   "outputs": [],
   "source": [
    "pickle.dump(best_model, open(\"model.pkl\", \"wb\"))\n",
    "pickle.dump(scaler, open(\"scaler.pkl\", \"wb\"))\n"
   ]
  },
  {
   "cell_type": "code",
   "execution_count": null,
   "id": "d60e3698",
   "metadata": {},
   "outputs": [],
   "source": [
    "%%writefile app.py\n",
    "import streamlit as st\n",
    "import pandas as pd\n",
    "import pickle\n",
    "\n",
    "st.title(\"Taxi Fare Prediction\")\n",
    "st.write(\"This app predicts the taxi fare amount based on various trip and environment details.\")\n",
    "st.image(\"https://oceansidetaxi.ca/wp-content/uploads/uber-estimate.png\", width=700)\n",
    "\n",
    "# --- User Inputs ---\n",
    "car_condition = st.selectbox(\"Car Condition\", [\"Bad\", \"Good\", \"Very Good\", \"Excellent\"])\n",
    "car_map = {\"Bad\": 0, \"Good\": 1, \"Very Good\": 2, \"Excellent\": 3}\n",
    "car_condition_val = car_map[car_condition]\n",
    "\n",
    "passenger_count = st.number_input(\"Number of Passengers\", min_value=0, max_value=6, value=1)\n",
    "\n",
    "hour = st.slider(\"Hour of the Day\", 0, 23, 12)\n",
    "day = st.slider(\"Day of Month\", 1, 31, 15)\n",
    "month = st.selectbox(\"Month\", list(range(1, 13)))\n",
    "weekday_name = st.selectbox(\"Day of the Week\", [\n",
    "    \"Monday\", \"Tuesday\", \"Wednesday\", \"Thursday\", \"Friday\", \"Saturday\", \"Sunday\"\n",
    "])\n",
    "weekday_map = {\n",
    "    \"Monday\": 0,\n",
    "    \"Tuesday\": 1,\n",
    "    \"Wednesday\": 2,\n",
    "    \"Thursday\": 3,\n",
    "    \"Friday\": 4,\n",
    "    \"Saturday\": 5,\n",
    "    \"Sunday\": 6\n",
    "}\n",
    "weekday = weekday_map[weekday_name]\n",
    "year = st.selectbox(\"Year\", [2009,2010,2011,2012,2013,2014,2015])\n",
    "\n",
    "sol_dist = st.number_input(\"Distance from statue of liberty (km)\", min_value=0.0, max_value=50.0, step=0.1)\n",
    "distance = st.number_input(\"Trip Distance (km)\", min_value=0.0, max_value=50.0, step=0.1)\n",
    "\n",
    "# Weather (cloudy is dropped in one-hot, so not shown)\n",
    "weather = st.selectbox(\"Weather\", [\"Cloudy\", \"Rainy\", \"Stormy\", \"Sunny\", \"Windy\"])\n",
    "weather_features = ['weather_rainy', 'weather_stormy', 'weather_sunny', 'weather_windy']\n",
    "weather_encoding = [1 if weather.lower() in w else 0 for w in weather_features]\n",
    "\n",
    "# Traffic (Congested Traffic is dropped)\n",
    "traffic = st.selectbox(\"Traffic Condition\", [\"Congested Traffic\", \"Dense Traffic\", \"Flow Traffic\"])\n",
    "traffic_features = ['traffic_condition_Dense Traffic', 'traffic_condition_Flow Traffic']\n",
    "traffic_encoding = [1 if traffic in t else 0 for t in traffic_features]\n",
    "\n",
    "# --- Prepare Input ---\n",
    "input_data = [[\n",
    "    car_condition_val, passenger_count, hour, day, month, weekday,\n",
    "    year, sol_dist, distance\n",
    "] + weather_encoding + traffic_encoding]\n",
    "\n",
    "columns = [\n",
    "    'car_condition', 'passenger_count', 'hour', 'day', 'month', 'weekday',\n",
    "    'year', 'sol_dist', 'distance',\n",
    "    'weather_rainy', 'weather_stormy', 'weather_sunny', 'weather_windy',\n",
    "    'traffic_condition_Dense Traffic', 'traffic_condition_Flow Traffic'\n",
    "]\n",
    "\n",
    "input_df = pd.DataFrame(input_data, columns=columns)\n",
    "\n",
    "# --- Load Scaler and Model ---\n",
    "scaler = pickle.load(open(\"scaler.pkl\", \"rb\"))\n",
    "model = pickle.load(open(\"model.pkl\", \"rb\"))\n",
    "\n",
    "# --- Scale sol_dist and distance only ---\n",
    "input_df[[\"sol_dist\", \"distance\"]] = scaler.transform(input_df[[\"sol_dist\", \"distance\"]])\n",
    "\n",
    "# --- Predict ---\n",
    "if st.button(\"Predict Fare\"):\n",
    "    predicted_fare = model.predict(input_df)[0]\n",
    "    st.write(\"**Predicted Fare Amount:**\")\n",
    "    st.success(f\"${predicted_fare:.2f}\")\n",
    "    st.write(\"---\")\n",
    "    st.write(\"**Input Data Used for Prediction:**\")\n",
    "    st.dataframe(input_df)\n"
   ]
  },
  {
   "cell_type": "code",
   "execution_count": null,
   "id": "1b907dad",
   "metadata": {},
   "outputs": [],
   "source": [
    "!streamlit run app.py"
   ]
  },
  {
   "cell_type": "code",
   "execution_count": null,
   "id": "e0707aeb",
   "metadata": {},
   "outputs": [],
   "source": []
  }
 ],
 "metadata": {
  "kernelspec": {
   "display_name": "base",
   "language": "python",
   "name": "python3"
  },
  "language_info": {
   "codemirror_mode": {
    "name": "ipython",
    "version": 3
   },
   "file_extension": ".py",
   "mimetype": "text/x-python",
   "name": "python",
   "nbconvert_exporter": "python",
   "pygments_lexer": "ipython3",
   "version": "3.12.7"
  }
 },
 "nbformat": 4,
 "nbformat_minor": 5
}
