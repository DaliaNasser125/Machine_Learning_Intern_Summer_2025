{
 "cells": [
  {
   "metadata": {
    "tags": [
     "Importing Libraries",
     "Reading the csv file",
     "Having proper set-up"
    ]
   },
   "cell_type": "code",
   "source": [
    "import pandas as pd\n",
    "import matplotlib.pyplot as plt\n",
    "import seaborn as sns\n",
    "\n",
    "plt.rcParams.update({'figure.facecolor': 'white', 'axes.facecolor': 'white'})\n",
    "plt.style.use('default')\n",
    "\n",
    "data = pd.read_csv(r\"H:\\Hazoom\\Videos\\Courses\\ML - Cellula\\Week 1\\Task\\first inten project.csv\")\n",
    "data.drop(\"Booking_ID\", axis = 1, inplace = True)\n",
    "pd.set_option('display.max_columns', None)\n",
    "print(data)"
   ],
   "id": "57babcc8b166a5c1",
   "outputs": [],
   "execution_count": null
  },
  {
   "metadata": {
    "tags": [
     "Having a Quick Look Through Our Data"
    ]
   },
   "cell_type": "code",
   "source": [
    "print(data.columns)\n",
    "print(data['market segment type'].unique())\n",
    "print(data['booking status'].unique())"
   ],
   "id": "8fe49a29feead082",
   "outputs": [],
   "execution_count": null
  },
  {
   "metadata": {
    "tags": [
     "Counter Column Used in Pivot Tables"
    ]
   },
   "cell_type": "code",
   "source": "data['count'] = 1",
   "id": "88d4f2a42bb942df",
   "outputs": [],
   "execution_count": null
  },
  {
   "metadata": {
    "tags": [
     "Data Perparation for the Second Pivot Table"
    ]
   },
   "cell_type": "code",
   "source": [
    "data['total number of nights'] = data['number of week nights'] + data['number of weekend nights']\n",
    "print(data['total number of nights'].max())\n",
    "data['nights_group'] = pd.cut(data['total number of nights'], bins=[0, 2, 5, 100], labels=['0-2 nights', '3-5 nights', '6 or more nights'])"
   ],
   "id": "e71eaa4d1129873a",
   "outputs": [],
   "execution_count": null
  },
  {
   "metadata": {
    "tags": [
     "Data Perparation for the Third Pivot Table"
    ]
   },
   "cell_type": "code",
   "source": [
    "data['total number of guests'] = data['number of adults'] + data['number of children']\n",
    "print(data['total number of guests'].max())\n",
    "data['family_group'] = pd.cut(data['total number of guests'], bins=[0, 1, 3, 100], labels = ['Single', 'Small Family (2-3)', 'Big Family (4+ members)'])"
   ],
   "id": "80d6d0eac4d8ba8f",
   "outputs": [],
   "execution_count": null
  },
  {
   "metadata": {
    "tags": [
     "Data Perparation for the Fourth Pivot Table"
    ]
   },
   "cell_type": "code",
   "source": [
    "data['average price']=data['average price '].apply(lambda n: int(n))\n",
    "data['price ranges'] = pd.cut(data['average price'], bins=[0, 50, 100, 200, 1000], labels=['Low (0-50$)', 'Intermediate (51-100$)', 'Higher (101-200$)', 'Very High (+200$)'])"
   ],
   "id": "3583c5f7b5ddc36d",
   "outputs": [],
   "execution_count": null
  },
  {
   "metadata": {
    "tags": [
     "Data Perparation for the Fifth Pivot Table"
    ]
   },
   "cell_type": "code",
   "source": "data['days before arrival'] = pd.cut(data['lead time'], bins=[0, 6, 13, 29, 59, 89, 179, 269, 364, 1000], labels=['less than one week', 'less than two weeks', 'less than one month', 'less than two months', 'less than three months', 'less than six months','less than nine months', 'less than one year', 'more than a year'])",
   "id": "d502c6fad44a7d15",
   "outputs": [],
   "execution_count": null
  },
  {
   "metadata": {
    "tags": [
     "How many reservations were cancelled?"
    ]
   },
   "cell_type": "code",
   "source": [
    "x = data['booking status'].unique()\n",
    "y = data['booking status'].value_counts()\n",
    "plt.bar(x,y)\n",
    "plt.title(\"How many Cancelled\")\n",
    "plt.xlabel(\"Booking Status\")\n",
    "plt.ylabel(\"Numbers\")\n",
    "plt.show()"
   ],
   "id": "92c60e7e6e9ebad2",
   "outputs": [],
   "execution_count": null
  },
  {
   "metadata": {
    "tags": [
     "Inserting a new column to have only the month and year of reservation"
    ]
   },
   "cell_type": "code",
   "source": [
    "data['date of reservation'] = data['date of reservation'].replace('2018-2-29', '2/28/2018') #Discovered after having an error\n",
    "\n",
    "data['date of reservation'] = pd.to_datetime(data['date of reservation'], errors = 'coerce')\n",
    "data['month_year'] = data['date of reservation'].dt.strftime('%B %Y')\n",
    "data = data.sort_values('date of reservation')\n",
    "\n",
    "#Check\n",
    "print(data['month_year'].head(10))\n",
    "print(data['month_year'].tail(10))"
   ],
   "id": "97ab5b937fa833f8",
   "outputs": [],
   "execution_count": null
  },
  {
   "metadata": {
    "tags": [
     "Plotting Number of Reservation for Every Month"
    ]
   },
   "cell_type": "code",
   "source": [
    "data['month_year_dt'] = pd.to_datetime(data['month_year'], format='%B %Y')\n",
    "reservations_per_month = (\n",
    "    data.groupby(['month_year_dt', 'month_year'])\n",
    "    .size()\n",
    "    .sort_index(level='month_year_dt')\n",
    "    .reset_index(level=0, drop=True)\n",
    ")\n",
    "\n",
    "plt.figure(figsize=(12, 6), facecolor = 'white')\n",
    "reservations_per_month.plot(kind='bar', color='steelblue')\n",
    "plt.title(\"Reservations per Month\")\n",
    "plt.xlabel(\"Month and Year\")\n",
    "plt.ylabel(\"Number of Reservations\")\n",
    "plt.xticks(rotation=45)\n",
    "plt.tight_layout()\n",
    "plt.show()"
   ],
   "id": "e5ca472c9b62a108",
   "outputs": [],
   "execution_count": null
  },
  {
   "metadata": {
    "tags": [
     "Figure showing the trend of cancellation over the time"
    ]
   },
   "cell_type": "code",
   "source": [
    "monthly_counts = data.groupby(['month_year', 'booking status']).size().unstack()\n",
    "\n",
    "monthly_counts.index  = pd.to_datetime(monthly_counts.index, format = '%B %Y')\n",
    "monthly_counts = monthly_counts.sort_index()\n",
    "monthly_counts.index = monthly_counts.index.strftime('%b %Y')\n",
    "\n",
    "plt.figure(figsize = (12,6))\n",
    "\n",
    "sns.lineplot(\n",
    "    data = monthly_counts['Not_Canceled'],\n",
    "    label = 'Confirmed',\n",
    "    marker = '*',\n",
    "    color = 'green',\n",
    "    markersize = 10,\n",
    "    linewidth = 3\n",
    ")\n",
    "sns.lineplot(\n",
    "    data = monthly_counts['Canceled'],\n",
    "    label = 'Canceled',\n",
    "    marker = 'o',\n",
    "    color = 'red',\n",
    "    markersize = 8,\n",
    "    linewidth=3\n",
    ")\n",
    "\n",
    "plt.title('Canceled and Not-Canceled Count for Each Month', fontsize=14, fontweight='bold', pad=20)\n",
    "plt.xlabel('Month and Year',fontsize=12, labelpad=10)\n",
    "plt.ylabel('Count',fontsize=12, labelpad=10)\n",
    "plt.xticks(rotation = 45, ha = 'right')\n",
    "\n",
    "plt.legend(title='Booking Status',\n",
    "           frameon=True,\n",
    "           shadow=True,\n",
    "           title_fontsize=12)\n",
    "\n",
    "plt.tight_layout()\n",
    "plt.show()"
   ],
   "id": "27bc6ce76436afac",
   "outputs": [],
   "execution_count": null
  },
  {
   "metadata": {
    "tags": [
     "Pivot Table 1: Booking Status for Each Market Segment Type"
    ]
   },
   "cell_type": "code",
   "source": [
    "pt_1 = pd.pivot_table(\n",
    "    data,\n",
    "    index = \"market segment type\",\n",
    "    columns = \"booking status\",\n",
    "    values = \"count\",\n",
    "    aggfunc = 'count',\n",
    "    fill_value = 0\n",
    ")\n",
    "print(pt_1)"
   ],
   "id": "10e25b54040f2a39",
   "outputs": [],
   "execution_count": null
  },
  {
   "metadata": {
    "tags": [
     "Figure of The First Pivot Table"
    ]
   },
   "cell_type": "code",
   "source": [
    "ptPlot_1 = pt_1.plot(kind = \"bar\", stacked = False, figsize = (10,6))\n",
    "plt.xlabel(\"Market Segment Type\")\n",
    "plt.ylabel(\"Count of Confirmed vs Cancelled\")\n",
    "plt.title(\"Booking Status for Each Segment Type\")\n",
    "plt.xticks(rotation = 0, ha='center')\n",
    "plt.yticks(range(0, 14000 + 1000,1000))\n",
    "plt.legend(title='Booking Status', bbox_to_anchor=(1.05, 1))\n",
    "\n",
    "for p in ptPlot_1.patches:\n",
    "    ptPlot_1.annotate(f\"{p.get_height():.0f}\",\n",
    "               (p.get_x() + p.get_width() / 2., p.get_height()),\n",
    "               ha='center', va='center',\n",
    "               xytext=(0, 5),\n",
    "               textcoords='offset points')\n",
    "\n",
    "plt.tight_layout()\n",
    "plt.show()\n"
   ],
   "id": "63a9ae6d4eae04a8",
   "outputs": [],
   "execution_count": null
  },
  {
   "metadata": {
    "tags": [
     "Pivot Table 2: Booking Status for Different Durations"
    ]
   },
   "cell_type": "code",
   "source": [
    "pt_2 = pd.pivot_table(\n",
    "    data,\n",
    "    columns = \"booking status\",\n",
    "    index = \"nights_group\",\n",
    "    observed = True,\n",
    "    values = \"count\",\n",
    "    aggfunc = 'count',\n",
    "    fill_value = 0\n",
    ")\n",
    "print(pt_2)"
   ],
   "id": "cc041bf38077c8e4",
   "outputs": [],
   "execution_count": null
  },
  {
   "metadata": {
    "tags": [
     "Figure of The Second Pivot Pivot Table"
    ]
   },
   "cell_type": "code",
   "source": [
    "ptPlot_2 = pt_2.plot(kind = \"bar\", stacked = False, figsize = (10,6))\n",
    "plt.xlabel(\"Duration of Staying\")\n",
    "plt.ylabel(\"Count of Confirmed vs Cancelled\")\n",
    "plt.title(\"Booking Status for Different Durations\")\n",
    "plt.xticks(rotation = 0, ha='center')\n",
    "plt.yticks(range(0, 14000 + 1000,1000))\n",
    "plt.legend(title='Booking Status', bbox_to_anchor=(1, 1))\n",
    "\n",
    "for p in ptPlot_2.patches:\n",
    "    ptPlot_2.annotate(f\"{p.get_height():.0f}\",\n",
    "               (p.get_x() + p.get_width() / 2., p.get_height()),\n",
    "               ha='center', va='center',\n",
    "               xytext=(0, 5),\n",
    "               textcoords='offset points')\n",
    "\n",
    "plt.tight_layout()\n",
    "plt.show()"
   ],
   "id": "44902f5885f26153",
   "outputs": [],
   "execution_count": null
  },
  {
   "metadata": {
    "tags": [
     "Pivot Table 3: Booking Status for Different Guest Numbers"
    ]
   },
   "cell_type": "code",
   "source": [
    "pt_3 = pd.pivot_table(\n",
    "    data,\n",
    "    columns = \"booking status\",\n",
    "    index = \"family_group\",\n",
    "    observed = True,\n",
    "    values = \"count\",\n",
    "    aggfunc = 'count',\n",
    "    fill_value = 0\n",
    ")\n",
    "print(pt_3)"
   ],
   "id": "1ff41c861c89605c",
   "outputs": [],
   "execution_count": null
  },
  {
   "metadata": {
    "tags": [
     "Figure of The Third Pivot Table"
    ]
   },
   "cell_type": "code",
   "source": [
    "ptPlot_3 = pt_3.plot(kind = \"bar\", stacked = False, figsize = (10,6))\n",
    "plt.xlabel(\"Number of Guests\")\n",
    "plt.ylabel(\"Count of Confirmed vs Cancelled\")\n",
    "plt.title(\"Booking Status for Different Guest Numbers\")\n",
    "plt.xticks(rotation = 0, ha='center')\n",
    "plt.yticks(range(0, 14000 + 1500,1500))\n",
    "plt.legend(title='Booking Status', bbox_to_anchor=(1, 1))\n",
    "\n",
    "for p in ptPlot_3.patches:\n",
    "    ptPlot_3.annotate(f\"{p.get_height():.0f}\",\n",
    "               (p.get_x() + p.get_width() / 2., p.get_height()),\n",
    "               ha='center', va='center',\n",
    "               xytext=(0, 5),\n",
    "               textcoords='offset points')\n",
    "\n",
    "plt.tight_layout()\n",
    "plt.show()"
   ],
   "id": "6c1d9e684d7413ef",
   "outputs": [],
   "execution_count": null
  },
  {
   "metadata": {
    "tags": [
     "Pivot Table 4: Booking Status Relationship With Lead Time"
    ]
   },
   "cell_type": "code",
   "source": [
    "pt_4 = pd.pivot_table(\n",
    "    data,\n",
    "    columns = \"booking status\",\n",
    "    index = \"days before arrival\",\n",
    "    observed = True,\n",
    "    values = \"count\",\n",
    "    aggfunc = 'count',\n",
    "    fill_value = 0\n",
    ")\n",
    "print(pt_4)\n"
   ],
   "id": "8281ce1a7fca9f58",
   "outputs": [],
   "execution_count": null
  },
  {
   "metadata": {
    "tags": [
     "Figure of The Fourth Pivot Table"
    ]
   },
   "cell_type": "code",
   "source": [
    "plt.figure(figsize = (12,6))\n",
    "\n",
    "sns.lineplot(\n",
    "    data = pt_4['Not_Canceled'],\n",
    "    label = 'Confirmed',\n",
    "    marker = '*',\n",
    "    color = 'green',\n",
    "    markersize = 10,\n",
    "    linewidth = 3\n",
    ")\n",
    "sns.lineplot(\n",
    "    data = pt_4['Canceled'],\n",
    "    label = 'Canceled',\n",
    "    marker = 'o',\n",
    "    color = 'red',\n",
    "    markersize = 8,\n",
    "    linewidth=3\n",
    ")\n",
    "\n",
    "plt.title('Booking Status Based on Lead Time', fontsize=14, fontweight='bold', pad=20)\n",
    "plt.xlabel('Amount of Time Between Reservation and Actual Staying',fontsize=12, labelpad=10)\n",
    "plt.ylabel('Count',fontsize=12, labelpad=10)\n",
    "plt.xticks(rotation = 30, ha = 'right')\n",
    "\n",
    "plt.legend(title='Booking Status',\n",
    "           frameon=True,\n",
    "           shadow=True,\n",
    "           title_fontsize=12)\n",
    "\n",
    "plt.tight_layout()\n",
    "plt.show()"
   ],
   "id": "c65d158972b9a19c",
   "outputs": [],
   "execution_count": null
  },
  {
   "metadata": {
    "tags": [
     "Pivot Table 5: Booking Status for Different Price Ranges"
    ]
   },
   "cell_type": "code",
   "source": [
    "pt_5 = pd.pivot_table(\n",
    "    data,\n",
    "    columns = \"booking status\",\n",
    "    index = \"price ranges\",\n",
    "    observed = True,\n",
    "    values = \"count\",\n",
    "    aggfunc = 'count',\n",
    "    fill_value = 0\n",
    ")\n",
    "print(pt_5)"
   ],
   "id": "96dfb871c7be7d36",
   "outputs": [],
   "execution_count": null
  },
  {
   "metadata": {
    "tags": [
     "Figure of The Fifth Pivot Table"
    ]
   },
   "cell_type": "code",
   "source": [
    "ptPlot_5 = pt_5.plot(kind = \"bar\", stacked = False, figsize = (10,6))\n",
    "plt.xlabel(\"Price Ranges\")\n",
    "plt.ylabel(\"Count of Confirmed vs Cancelled\")\n",
    "plt.title(\"Booking Status for Different Price Ranges\")\n",
    "plt.xticks(rotation = 0, ha='center')\n",
    "plt.yticks(range(0, 14000 + 1000,1000))\n",
    "plt.legend(title='Booking Status', bbox_to_anchor=(1, 1))\n",
    "\n",
    "for p in ptPlot_5.patches:\n",
    "    ptPlot_5.annotate(f\"{p.get_height():.0f}\",\n",
    "               (p.get_x() + p.get_width() / 2., p.get_height()),\n",
    "               ha='center', va='center',\n",
    "               xytext=(0, 5),\n",
    "               textcoords='offset points')\n",
    "\n",
    "plt.tight_layout()\n",
    "plt.show()"
   ],
   "id": "e26b93e69b6b29c7",
   "outputs": [],
   "execution_count": null
  }
 ],
 "metadata": {
  "kernelspec": {
   "display_name": "Python 3",
   "language": "python",
   "name": "python3"
  },
  "language_info": {
   "codemirror_mode": {
    "name": "ipython",
    "version": 2
   },
   "file_extension": ".py",
   "mimetype": "text/x-python",
   "name": "python",
   "nbconvert_exporter": "python",
   "pygments_lexer": "ipython2",
   "version": "2.7.6"
  }
 },
 "nbformat": 4,
 "nbformat_minor": 5
}
